{
  "cells": [
    {
      "cell_type": "markdown",
      "metadata": {
        "id": "view-in-github",
        "colab_type": "text"
      },
      "source": [
        "<a href=\"https://colab.research.google.com/github/UAPH451551/PH451_551_Sp23/blob/main/Hackathons/Hackathon_01.ipynb\" target=\"_parent\"><img src=\"https://colab.research.google.com/assets/colab-badge.svg\" alt=\"Open In Colab\"/></a>"
      ]
    },
    {
      "cell_type": "markdown",
      "source": [
        "# Hackathon #1 Spring 2023"
      ],
      "metadata": {
        "id": "z_Q2zzcSdmsu"
      }
    },
    {
      "cell_type": "markdown",
      "metadata": {
        "id": "T4kV4R6SDR8X"
      },
      "source": [
        "**Background:** High-energy collisions at the Large Hadron Collider (LHC) <br> produce particles that interact with particle detectors. One important task is <br> \n",
        "to classify different types of collisions based on their physics content,<br> allowing physicists to find patterns in the data and to potentially unravel new <br> discoveries. "
      ]
    },
    {
      "cell_type": "markdown",
      "metadata": {
        "id": "fHw_uCCcHJqn"
      },
      "source": [
        "**Problem statement:** The discovery of the Higgs boson by CMS and ATLAS <br>\n",
        "Collaborations was announced at CERN in 2012. In this challenge, we will use <br>\n",
        "machine learning to classify events containing Higgs bosons from the background <br>\n",
        "events which do not contain Higgs bosons."
      ]
    },
    {
      "cell_type": "markdown",
      "metadata": {
        "id": "qAJnE-4uANmP"
      },
      "source": [
        "**Dataset:** The dataset is hosted by the Center for Machine Learning  <br>\n",
        "and Intelligent Systems at University of California, Irvine. <br>\n",
        "The dataset can be found on the [UCI Machine learning Repository](https://archive.ics.uci.edu/ml/datasets/HIGGS)"
      ]
    },
    {
      "cell_type": "markdown",
      "metadata": {
        "id": "5u1kJGUdAZ9m"
      },
      "source": [
        "**Description:** The dataset consists of a total of 11 million labeled samples <br> \n",
        "of Higgs and background events produced by Monte Carlo simulations. Each sample <br> \n",
        "consists of 28 features. The first 21 features are kinematic properties <br>\n",
        "of the events. The last seven are functions of the first 21. The data labels <br>\n",
        "are 1 for signal (an event with Higgs bosons) and 0 for background (an event <br>\n",
        "without Higgs bosons)."
      ]
    },
    {
      "cell_type": "markdown",
      "metadata": {
        "id": "myu16dmzSBmo"
      },
      "source": [
        "**Steps to load the training dataset**\n",
        "1. Download the dataset from the UCI website. "
      ]
    },
    {
      "cell_type": "code",
      "execution_count": null,
      "metadata": {
        "colab": {
          "base_uri": "https://localhost:8080/"
        },
        "id": "mrM-WOaxRWsP",
        "outputId": "452ea47f-290d-45e3-8356-d0346f8a00db"
      },
      "outputs": [
        {
          "output_type": "stream",
          "name": "stdout",
          "text": [
            "--2023-02-13 19:04:50--  https://archive.ics.uci.edu/ml/machine-learning-databases/00280/HIGGS.csv.gz\n",
            "Resolving archive.ics.uci.edu (archive.ics.uci.edu)... 128.195.10.252\n",
            "Connecting to archive.ics.uci.edu (archive.ics.uci.edu)|128.195.10.252|:443... connected.\n",
            "HTTP request sent, awaiting response... 200 OK\n",
            "Length: 2816407858 (2.6G) [application/x-httpd-php]\n",
            "Saving to: ‘HIGGS.csv.gz.2’\n",
            "\n",
            "HIGGS.csv.gz.2      100%[===================>]   2.62G  15.0MB/s    in 3m 51s  \n",
            "\n",
            "2023-02-13 19:08:42 (11.6 MB/s) - ‘HIGGS.csv.gz.2’ saved [2816407858/2816407858]\n",
            "\n"
          ]
        }
      ],
      "source": [
        "!wget https://archive.ics.uci.edu/ml/machine-learning-databases/00280/HIGGS.csv.gz"
      ]
    },
    {
      "cell_type": "markdown",
      "metadata": {
        "id": "0xHJtIbPVT-n"
      },
      "source": [
        "2. Unzip the dataset folder"
      ]
    },
    {
      "cell_type": "code",
      "execution_count": null,
      "metadata": {
        "id": "2J3v5kgbSrjx"
      },
      "outputs": [],
      "source": [
        " !gzip -d HIGGS.csv.gz"
      ]
    },
    {
      "cell_type": "code",
      "execution_count": null,
      "metadata": {
        "id": "MUE2QepFVwEq"
      },
      "outputs": [],
      "source": [
        "from sklearn.model_selection import train_test_split\n",
        "import pandas as pd\n",
        "import numpy as np\n",
        "np.random.seed(1337)  # for reproducibility\n",
        "import matplotlib.pyplot as plt"
      ]
    },
    {
      "cell_type": "markdown",
      "metadata": {
        "id": "4GDeVfB04Qe4"
      },
      "source": [
        "**Load the file using pandas library**"
      ]
    },
    {
      "cell_type": "code",
      "execution_count": null,
      "metadata": {
        "id": "Jxfnd8shK0vq"
      },
      "outputs": [],
      "source": [
        "data = pd.read_csv('./HIGGS.csv')"
      ]
    },
    {
      "cell_type": "markdown",
      "metadata": {
        "id": "ZTnbxdjkUp73"
      },
      "source": [
        "The first column is the labels (y). The other columns are all of our inputs (X).\n",
        "\n",
        "The above dataset is a pandas dataframe. We can access the data using iloc. <br>\n",
        "After that, we can turn it into a numpy array if we want or leave it as a <br>\n",
        "pandas dataframe. **Use whatever you feel most comfortable with**.\n"
      ]
    },
    {
      "cell_type": "code",
      "execution_count": null,
      "metadata": {
        "id": "hoRPhH9dNmCy"
      },
      "outputs": [],
      "source": [
        "X = data.iloc[:,1:]\n",
        "y = data.iloc[:,0]\n",
        "#X = X.to_numpy(dtype=float) #Convert pandas dataframe to numpy array (optional)\n",
        "#y = y.to_numpy(dtype=int)   #Convert pandas dataframe to numpy array (optional)"
      ]
    },
    {
      "cell_type": "code",
      "source": [
        "print(X.shape)"
      ],
      "metadata": {
        "colab": {
          "base_uri": "https://localhost:8080/"
        },
        "id": "XYHGU33UgViE",
        "outputId": "7b860ee8-b076-45c3-cd0f-f6fb4a0c67c8"
      },
      "execution_count": null,
      "outputs": [
        {
          "output_type": "stream",
          "name": "stdout",
          "text": [
            "(10999999, 28)\n"
          ]
        }
      ]
    },
    {
      "cell_type": "markdown",
      "source": [
        "To generate the following examples we used a smaller dataset containing only <br>\n",
        "10,000 events. You may want to do something similar while getting your code <br>\n",
        "set up but you should eventually use the full dataset.\n",
        "\n",
        "**For final hackathon task submissions you should use the full dataset.**"
      ],
      "metadata": {
        "id": "r6-xG2T41Qkv"
      }
    },
    {
      "cell_type": "code",
      "source": [
        "#X = X[:10000]\n",
        "#y = y[:10000]"
      ],
      "metadata": {
        "id": "V-7QmHPK1Oe1"
      },
      "execution_count": null,
      "outputs": []
    },
    {
      "cell_type": "code",
      "source": [
        "plt.hist(X.iloc[:,0], bins=30)\n",
        "plt.title(\"lepton pT\")\n",
        "plt.xlabel(\"lepton pT\")\n",
        "plt.ylabel(\"number of events\")\n",
        "plt.show()"
      ],
      "metadata": {
        "colab": {
          "base_uri": "https://localhost:8080/",
          "height": 295
        },
        "id": "pz3F8doFfuvn",
        "outputId": "02fdd204-c31f-4194-f453-921c97942d14"
      },
      "execution_count": null,
      "outputs": [
        {
          "output_type": "display_data",
          "data": {
            "text/plain": [
              "<Figure size 432x288 with 1 Axes>"
            ],
            "image/png": "[encoded data removed]"
          },
          "metadata": {
            "needs_background": "light"
          }
        }
      ]
    },
    {
      "cell_type": "markdown",
      "metadata": {
        "id": "hQX3GUrVUe7N"
      },
      "source": [
        "Next we can split our data into 80% training data, 10% validation data, 10% <br>\n",
        "test data. \n",
        "\n",
        "For the rest of this hackathon, use `X_train`, `X_val`, `X_test` as input <br>\n",
        "data and `y_train`, `y_val`, `y_test` as output data."
      ]
    },
    {
      "cell_type": "code",
      "execution_count": null,
      "metadata": {
        "id": "50-8I-fj8jC7"
      },
      "outputs": [],
      "source": [
        "X_train, X_val1, y_train, y_val1 = train_test_split(X, y, test_size=0.2, random_state=42)\n",
        "X_val, X_test, y_val, y_test = train_test_split(X_val1, y_val1, test_size=0.5, random_state=42)"
      ]
    },
    {
      "cell_type": "code",
      "source": [
        "print(X_train.shape)\n",
        "print(X_val.shape)\n",
        "print(X_test.shape)\n",
        "print(y_train.shape)\n",
        "print(y_val.shape)\n",
        "print(y_test.shape)"
      ],
      "metadata": {
        "colab": {
          "base_uri": "https://localhost:8080/"
        },
        "id": "o856c_zDfJ-S",
        "outputId": "ca0df740-5a65-4988-c70d-912a0d6af136"
      },
      "execution_count": null,
      "outputs": [
        {
          "output_type": "stream",
          "name": "stdout",
          "text": [
            "(8000, 28)\n",
            "(1000, 28)\n",
            "(1000, 28)\n",
            "(8000,)\n",
            "(1000,)\n",
            "(1000,)\n"
          ]
        }
      ]
    },
    {
      "cell_type": "markdown",
      "source": [
        "## **REMINDER: Use the Higgs dataset provided above for the Hackathon**"
      ],
      "metadata": {
        "id": "ld4APrANmSJ6"
      }
    },
    {
      "cell_type": "markdown",
      "metadata": {
        "id": "PexwSVQ34M_l"
      },
      "source": [
        "## Hackathon Task 1:\n",
        "\n",
        "Data: `X_train`\n",
        "\n",
        "Generate histograms of the different variables in `X_train` with proper axis <br>\n",
        "labels and titles.\n",
        "\n",
        "Detailed information on what each feature column is can be found in <br> *Attribute Information* section on the [UCI Machine learning Repository](https://archive.ics.uci.edu/ml/datasets/HIGGS). <br> \n",
        "For further information, refer to the [paper](https://www.nature.com/articles/ncomms5308) by Baldi et. al\n",
        "\n",
        "**Hint:** The first item is lepton pT.\n",
        "\n",
        "The following may be helpful:\n",
        "\n",
        "`names = [\"lepton pT\", \"lepton eta\", \"lepton phi\", \"missing energy magnitude\",` <br> \n",
        "`\"missing\", \"energy phi\", \"jet 1 pt\", \"jet 1 eta\", \"jet 1 phi\", \"jet 1 b-tag\",` <br> \n",
        "`\"jet 2 pt\", \"jet 2 eta\",\"jet 2 phi\", \"jet 2 b-tag\", \"jet 3 pt\", \"jet 3 eta\",` <br> \n",
        "`\"jet 3 phi\", \"jet 3 b-tag\", \"jet 4 pt\", \"jet 4 eta\", \"jet 4 phi\", \"jet 4\"` <br>` \"b-tag\", \"m_jj\", \"m_jjj\", \"m_lv\", \"m_jlv\", \"m_bb\", \"m_wbb\", \"m_wwbb\"]`\n",
        "\n",
        "`for index, name in enumerate(names):`"
      ]
    },
    {
      "cell_type": "markdown",
      "metadata": {
        "id": "DBJaFEoGApL5"
      },
      "source": [
        "## Hackathon Task 2:\n",
        "\n",
        "Data: `X_train`, `y_train`, `X_val`, `y_val`\n",
        "\n",
        "Train a model by fitting it to the training data. Use at least one metric <br>\n",
        "such as roc_auc_score, accuracy, etc. to analyze the model's performance on the <br>\n",
        "validation data. Using that performance metric, optimize or improve your model. <br>\n",
        "It should be clear from your notebook how you perform this optimization."
      ]
    },
    {
      "cell_type": "markdown",
      "source": [
        "## Hackathon Task 3:\n",
        "\n",
        "Data: `X_test`, `y_test`\n",
        "\n",
        "**Note: The test data should be used only for final performance evaluation.** <br>\n",
        "**Validation data can be used to tune your model but test data should not be** <br>\n",
        "**used for model tuning.**\n",
        "\n",
        "Without having done any optimization using the testing data set, analyze the <br>\n",
        "performance of the model on the testing data. Your analysis should include <br> [roc_auc_score](https://scikit-learn.org/stable/modules/generated/sklearn.metrics.roc_auc_score.html), a ROC curve plot\n",
        "(see [1](https://plot-metric.readthedocs.io/en/latest/), [2](https://github.com/UAPH451551/PH451_551_Sp23/blob/main/Exercises/Statistics_1.ipynb), [3](https://github.com/UAPH451551/PH451_551_Sp23/blob/main/Exercises/01_Classification.ipynb)), and at least one other plot of <br>\n",
        "your choice such as precision-recall curves, confusion matrix, etc.\n"
      ],
      "metadata": {
        "id": "G3t0NHGQa-yb"
      }
    },
    {
      "cell_type": "markdown",
      "source": [
        "# Deliverables:\n",
        "\n",
        "**Reminder: The hackathon tasks should be done using the Higgs dataset.** <br>\n",
        "A pdf of the notebook with all three hackathon tasks completed. <br>\n",
        "A copy of your colab/jupyter notebook with all three hackathon tasks completed. <br>\n",
        "\n",
        "\n",
        "File name convention: For group 42 and memebers Richard Stallman and Linus <br>\n",
        "Torvalds it would be \"Hackathon1_42_Stallman_Torvalds.pdf\" and  <br>\n",
        "\"Hackathon1_42_Stallman_Torvalds.ipynb\".\n",
        "\n",
        "Submission via blackboard (UA)."
      ],
      "metadata": {
        "id": "9euTzbAUy1ty"
      }
    },
    {
      "cell_type": "markdown",
      "source": [
        "# Examples\n",
        "\n",
        "### The examples below use a different dataset (breast cancer diagnosis dataset) \n",
        "### than what is provided above.\n",
        "### Please use the Higgs data set for the hackathon.\n",
        "\n",
        "**Note: The following examples are meant to provide a starting point. You are** <br>\n",
        "**encouraged to get creative. Feel free to look back to earlier assignments for** <br>\n",
        "**inspiration and code examples.**"
      ],
      "metadata": {
        "id": "cYXn_2LHe5kv"
      }
    },
    {
      "cell_type": "markdown",
      "source": [
        "## Decision Tree Example"
      ],
      "metadata": {
        "id": "yGXUxuiMY4Uc"
      }
    },
    {
      "cell_type": "code",
      "source": [
        "from sklearn.ensemble import AdaBoostClassifier\n",
        "from sklearn.metrics import accuracy_score\n",
        "from sklearn.tree import DecisionTreeClassifier\n",
        "from sklearn.metrics import confusion_matrix\n",
        "from sklearn.datasets import load_breast_cancer\n",
        "from sklearn.model_selection import train_test_split"
      ],
      "metadata": {
        "id": "2YCd_u1aWj7N"
      },
      "execution_count": null,
      "outputs": []
    },
    {
      "cell_type": "code",
      "source": [
        "dataset = load_breast_cancer() #Use the Higgs dataset for the hackathon\n",
        "X = dataset[\"data\"]\n",
        "y = dataset[\"target\"]"
      ],
      "metadata": {
        "id": "jNkp9ozCXClU"
      },
      "execution_count": null,
      "outputs": []
    },
    {
      "cell_type": "code",
      "source": [
        "print(X.shape)\n",
        "print(y.shape)"
      ],
      "metadata": {
        "colab": {
          "base_uri": "https://localhost:8080/"
        },
        "id": "tNUQzTOQZfdj",
        "outputId": "b5fc71e7-0639-4300-a49b-ab63404cce19"
      },
      "execution_count": null,
      "outputs": [
        {
          "output_type": "stream",
          "name": "stdout",
          "text": [
            "(569, 30)\n",
            "(569,)\n"
          ]
        }
      ]
    },
    {
      "cell_type": "code",
      "source": [
        "X_train, X_test, y_train, y_test = train_test_split(X, y, test_size=0.3, random_state=42)"
      ],
      "metadata": {
        "id": "YxGxtdyZW-7F"
      },
      "execution_count": null,
      "outputs": []
    },
    {
      "cell_type": "code",
      "source": [
        "classifier = AdaBoostClassifier(\n",
        "    DecisionTreeClassifier(max_depth=1),\n",
        "    n_estimators=200,\n",
        "    random_state=42\n",
        ")"
      ],
      "metadata": {
        "id": "NYF4jBySWprd"
      },
      "execution_count": null,
      "outputs": []
    },
    {
      "cell_type": "code",
      "source": [
        "classifier.fit(X_train, y_train)"
      ],
      "metadata": {
        "colab": {
          "base_uri": "https://localhost:8080/"
        },
        "id": "ahZQZ4smWxU3",
        "outputId": "52731aeb-9956-45cf-bea9-9dd69f4704b6"
      },
      "execution_count": null,
      "outputs": [
        {
          "output_type": "execute_result",
          "data": {
            "text/plain": [
              "AdaBoostClassifier(base_estimator=DecisionTreeClassifier(max_depth=1),\n",
              "                   n_estimators=200, random_state=42)"
            ]
          },
          "metadata": {},
          "execution_count": 83
        }
      ]
    },
    {
      "cell_type": "code",
      "source": [
        "predictions = classifier.predict(X_test)"
      ],
      "metadata": {
        "id": "dKOvAzrdWzBu"
      },
      "execution_count": null,
      "outputs": []
    },
    {
      "cell_type": "code",
      "source": [
        "y_hat = classifier.predict_proba(X_test)[:, 1]"
      ],
      "metadata": {
        "id": "VwzQdVKEW3EP"
      },
      "execution_count": null,
      "outputs": []
    },
    {
      "cell_type": "code",
      "source": [
        "confusion_matrix(y_test, predictions)"
      ],
      "metadata": {
        "colab": {
          "base_uri": "https://localhost:8080/"
        },
        "id": "PTgawZpIW5-P",
        "outputId": "850c358d-9b1e-43a3-f561-ac2b5e34dcb1"
      },
      "execution_count": null,
      "outputs": [
        {
          "output_type": "execute_result",
          "data": {
            "text/plain": [
              "array([[ 62,   1],\n",
              "       [  2, 106]])"
            ]
          },
          "metadata": {},
          "execution_count": 86
        }
      ]
    },
    {
      "cell_type": "code",
      "source": [
        "accuracy_score(y_test, predictions)"
      ],
      "metadata": {
        "colab": {
          "base_uri": "https://localhost:8080/"
        },
        "id": "Vj8aIHQVZWQY",
        "outputId": "735182f4-930a-4c77-f6b5-34dd167af0a9"
      },
      "execution_count": null,
      "outputs": [
        {
          "output_type": "execute_result",
          "data": {
            "text/plain": [
              "0.9824561403508771"
            ]
          },
          "metadata": {},
          "execution_count": 87
        }
      ]
    },
    {
      "cell_type": "code",
      "source": [
        "!pip install plot_metric"
      ],
      "metadata": {
        "colab": {
          "base_uri": "https://localhost:8080/"
        },
        "id": "g5U62A3WXsV6",
        "outputId": "5dbe7379-eeb5-4f42-a4c7-01100617b7de"
      },
      "execution_count": null,
      "outputs": [
        {
          "output_type": "stream",
          "name": "stdout",
          "text": [
            "Looking in indexes: https://pypi.org/simple, https://us-python.pkg.dev/colab-wheels/public/simple/\n",
            "Requirement already satisfied: plot_metric in /usr/local/lib/python3.8/dist-packages (0.0.6)\n",
            "Requirement already satisfied: numpy>=1.15.4 in /usr/local/lib/python3.8/dist-packages (from plot_metric) (1.21.6)\n",
            "Requirement already satisfied: pandas>=0.23.4 in /usr/local/lib/python3.8/dist-packages (from plot_metric) (1.3.5)\n",
            "Requirement already satisfied: seaborn>=0.9.0 in /usr/local/lib/python3.8/dist-packages (from plot_metric) (0.11.2)\n",
            "Requirement already satisfied: scipy>=1.1.0 in /usr/local/lib/python3.8/dist-packages (from plot_metric) (1.7.3)\n",
            "Requirement already satisfied: colorlover>=0.3.0 in /usr/local/lib/python3.8/dist-packages (from plot_metric) (0.3.0)\n",
            "Requirement already satisfied: scikit-learn>=0.21.2 in /usr/local/lib/python3.8/dist-packages (from plot_metric) (1.0.2)\n",
            "Requirement already satisfied: matplotlib>=3.0.2 in /usr/local/lib/python3.8/dist-packages (from plot_metric) (3.2.2)\n",
            "Requirement already satisfied: python-dateutil>=2.1 in /usr/local/lib/python3.8/dist-packages (from matplotlib>=3.0.2->plot_metric) (2.8.2)\n",
            "Requirement already satisfied: pyparsing!=2.0.4,!=2.1.2,!=2.1.6,>=2.0.1 in /usr/local/lib/python3.8/dist-packages (from matplotlib>=3.0.2->plot_metric) (3.0.9)\n",
            "Requirement already satisfied: kiwisolver>=1.0.1 in /usr/local/lib/python3.8/dist-packages (from matplotlib>=3.0.2->plot_metric) (1.4.4)\n",
            "Requirement already satisfied: cycler>=0.10 in /usr/local/lib/python3.8/dist-packages (from matplotlib>=3.0.2->plot_metric) (0.11.0)\n",
            "Requirement already satisfied: pytz>=2017.3 in /usr/local/lib/python3.8/dist-packages (from pandas>=0.23.4->plot_metric) (2022.7.1)\n",
            "Requirement already satisfied: joblib>=0.11 in /usr/local/lib/python3.8/dist-packages (from scikit-learn>=0.21.2->plot_metric) (1.2.0)\n",
            "Requirement already satisfied: threadpoolctl>=2.0.0 in /usr/local/lib/python3.8/dist-packages (from scikit-learn>=0.21.2->plot_metric) (3.1.0)\n",
            "Requirement already satisfied: six>=1.5 in /usr/local/lib/python3.8/dist-packages (from python-dateutil>=2.1->matplotlib>=3.0.2->plot_metric) (1.15.0)\n"
          ]
        }
      ]
    },
    {
      "cell_type": "code",
      "source": [
        "from plot_metric.functions import BinaryClassification\n",
        "import matplotlib.pyplot as plt\n",
        "# Visualisation with plot_metric\n",
        "bc = BinaryClassification(y_test, y_hat, labels=[\"Class 1\", \"Class 2\"])\n",
        "\n",
        "# Figures\n",
        "plt.figure(figsize=(5,5))\n",
        "_,_,_,auc = bc.plot_roc_curve()\n",
        "print(\"AUC:\", auc)\n",
        "plt.show()"
      ],
      "metadata": {
        "colab": {
          "base_uri": "https://localhost:8080/",
          "height": 367
        },
        "id": "rW71lZ6hXiMM",
        "outputId": "57169a93-eb5f-4e89-d49e-737922f0e558"
      },
      "execution_count": null,
      "outputs": [
        {
          "output_type": "stream",
          "name": "stdout",
          "text": [
            "AUC: 0.9977954144620811\n"
          ]
        },
        {
          "output_type": "display_data",
          "data": {
            "text/plain": [
              "<Figure size 360x360 with 1 Axes>"
            ],
            "image/png": "[encoded data removed]"
          },
          "metadata": {}
        }
      ]
    },
    {
      "cell_type": "markdown",
      "source": [
        "## Basic Neural Network Example"
      ],
      "metadata": {
        "id": "0ORFeTP0Yu7R"
      }
    },
    {
      "cell_type": "code",
      "execution_count": null,
      "metadata": {
        "id": "k_I4kazT3_3c"
      },
      "outputs": [],
      "source": [
        "from numpy import loadtxt\n",
        "from keras.models import Sequential\n",
        "from keras.layers import Dense\n",
        "from sklearn.datasets import load_breast_cancer"
      ]
    },
    {
      "cell_type": "code",
      "execution_count": null,
      "metadata": {
        "id": "2rcPG-UX3kkq"
      },
      "outputs": [],
      "source": [
        "model_nn = Sequential()\n",
        "model_nn.add(Dense(30, input_dim=30, activation='relu'))\n",
        "model_nn.add(Dense(8, activation='relu'))\n",
        "model_nn.add(Dense(1, activation='sigmoid'))"
      ]
    },
    {
      "cell_type": "code",
      "source": [
        "dataset = load_breast_cancer() #Use the Higgs dataset for the hackathon\n",
        "X = dataset[\"data\"]\n",
        "y = dataset[\"target\"]"
      ],
      "metadata": {
        "id": "54Z-3swHePns"
      },
      "execution_count": null,
      "outputs": []
    },
    {
      "cell_type": "code",
      "source": [
        "print(X.shape)\n",
        "print(y.shape)"
      ],
      "metadata": {
        "colab": {
          "base_uri": "https://localhost:8080/"
        },
        "outputId": "46cc8d1d-52d6-4d5f-c7bc-3ab46363527c",
        "id": "dj-_nGd2ePns"
      },
      "execution_count": null,
      "outputs": [
        {
          "output_type": "stream",
          "name": "stdout",
          "text": [
            "(569, 30)\n",
            "(569,)\n"
          ]
        }
      ]
    },
    {
      "cell_type": "code",
      "source": [
        "X_train, X_test1, y_train, y_test1 = train_test_split(X, y, test_size=0.3, random_state=42)\n",
        "X_test, X_val, y_test, y_val = train_test_split(X_test1, y_test1, test_size=0.5, random_state=42)"
      ],
      "metadata": {
        "id": "0PuqNjbeaETc"
      },
      "execution_count": null,
      "outputs": []
    },
    {
      "cell_type": "code",
      "execution_count": null,
      "metadata": {
        "colab": {
          "base_uri": "https://localhost:8080/"
        },
        "id": "gDEm75CK3-TT",
        "outputId": "35a3971a-249b-4674-dcb4-f664a1cc7aa7"
      },
      "outputs": [
        {
          "output_type": "stream",
          "name": "stdout",
          "text": [
            "Epoch 1/5\n",
            "57/57 [==============================] - 2s 6ms/step - loss: 24.2189 - accuracy: 0.5975 - val_loss: 0.5940 - val_accuracy: 0.7791\n",
            "Epoch 2/5\n",
            "57/57 [==============================] - 0s 4ms/step - loss: 0.4421 - accuracy: 0.8207 - val_loss: 0.2966 - val_accuracy: 0.8721\n",
            "Epoch 3/5\n",
            "57/57 [==============================] - 0s 6ms/step - loss: 0.2977 - accuracy: 0.8858 - val_loss: 0.1998 - val_accuracy: 0.9535\n",
            "Epoch 4/5\n",
            "57/57 [==============================] - 0s 5ms/step - loss: 0.2738 - accuracy: 0.9033 - val_loss: 0.2298 - val_accuracy: 0.9302\n",
            "Epoch 5/5\n",
            "57/57 [==============================] - 0s 4ms/step - loss: 0.2443 - accuracy: 0.9192 - val_loss: 0.1546 - val_accuracy: 0.9767\n",
            "18/18 [==============================] - 0s 3ms/step - loss: 0.2275 - accuracy: 0.9174\n",
            "Accuracy: 91.74\n"
          ]
        }
      ],
      "source": [
        "# compile the keras model\n",
        "model_nn.compile(loss='binary_crossentropy', optimizer='adam', metrics=['accuracy'])\n",
        "# fit the keras model on the dataset\n",
        "history = model_nn.fit(X, y, validation_data=(X_val, y_val), epochs=5, batch_size=10)\n",
        "# evaluate the keras model\n",
        "_, accuracy = model_nn.evaluate(X, y)\n",
        "model_nn.save('my_model.h5') ##Saving model weights\n",
        "print('Accuracy: %.2f' % (accuracy*100))"
      ]
    },
    {
      "cell_type": "code",
      "source": [
        "predictions = model_nn.predict(X_test)"
      ],
      "metadata": {
        "colab": {
          "base_uri": "https://localhost:8080/"
        },
        "id": "45eqUaPcab35",
        "outputId": "c5f904dc-9daa-4d8d-c09d-a6d4056bdf8d"
      },
      "execution_count": null,
      "outputs": [
        {
          "output_type": "stream",
          "name": "stdout",
          "text": [
            "3/3 [==============================] - 0s 3ms/step\n"
          ]
        }
      ]
    },
    {
      "cell_type": "code",
      "source": [
        "from plot_metric.functions import BinaryClassification\n",
        "import matplotlib.pyplot as plt\n",
        "# Visualisation with plot_metric\n",
        "bc_nn = BinaryClassification(y_test, predictions, labels=[\"Class 1\", \"Class 2\"])\n",
        "\n",
        "# Figures\n",
        "plt.figure(figsize=(10,5))\n",
        "bc_nn.plot_confusion_matrix()\n",
        "plt.show()"
      ],
      "metadata": {
        "colab": {
          "base_uri": "https://localhost:8080/",
          "height": 383
        },
        "id": "b7IgMy2gaRca",
        "outputId": "22ee2bb9-5acc-44e7-d3a4-aea67b1ef7d0"
      },
      "execution_count": null,
      "outputs": [
        {
          "output_type": "display_data",
          "data": {
            "text/plain": [
              "<Figure size 720x360 with 2 Axes>"
            ],
            "image/png": "[encoded data removed]"
          },
          "metadata": {}
        }
      ]
    },
    {
      "cell_type": "code",
      "source": [
        "_,_,_,auc = bc_nn.plot_roc_curve()\n",
        "print(\"AUC:\", auc)\n",
        "plt.show()"
      ],
      "metadata": {
        "id": "IsO48lXDyq3b",
        "outputId": "71cdc866-dd65-427c-a38a-2fc00facf9de",
        "colab": {
          "base_uri": "https://localhost:8080/",
          "height": 312
        }
      },
      "execution_count": null,
      "outputs": [
        {
          "output_type": "stream",
          "name": "stdout",
          "text": [
            "AUC: 0.9859234234234234\n"
          ]
        },
        {
          "output_type": "display_data",
          "data": {
            "text/plain": [
              "<Figure size 432x288 with 1 Axes>"
            ],
            "image/png": "[encoded data removed]"
          },
          "metadata": {}
        }
      ]
    }
  ],
  "metadata": {
    "accelerator": "GPU",
    "colab": {
      "provenance": [],
      "include_colab_link": true
    },
    "kernelspec": {
      "display_name": "Python 3",
      "language": "python",
      "name": "python3"
    },
    "language_info": {
      "codemirror_mode": {
        "name": "ipython",
        "version": 3
      },
      "file_extension": ".py",
      "mimetype": "text/x-python",
      "name": "python",
      "nbconvert_exporter": "python",
      "pygments_lexer": "ipython3",
      "version": "3.8.5"
    },
    "latex_envs": {
      "LaTeX_envs_menu_present": true,
      "autoclose": false,
      "autocomplete": true,
      "bibliofile": "biblio.bib",
      "cite_by": "apalike",
      "current_citInitial": 1,
      "eqLabelWithNumbers": true,
      "eqNumInitial": 1,
      "hotkeys": {
        "equation": "Ctrl-E",
        "itemize": "Ctrl-I"
      },
      "labels_anchors": false,
      "latex_user_defs": false,
      "report_style_numbering": false,
      "user_envs_cfg": false
    }
  },
  "nbformat": 4,
  "nbformat_minor": 0
}