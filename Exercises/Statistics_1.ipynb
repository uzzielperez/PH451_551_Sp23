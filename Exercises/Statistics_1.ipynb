{
  "nbformat": 4,
  "nbformat_minor": 0,
  "metadata": {
    "colab": {
      "provenance": [],
      "include_colab_link": true
    },
    "kernelspec": {
      "name": "python3",
      "display_name": "Python 3"
    },
    "language_info": {
      "name": "python"
    }
  },
  "cells": [
    {
      "cell_type": "markdown",
      "metadata": {
        "id": "view-in-github",
        "colab_type": "text"
      },
      "source": [
        "<a href=\"https://colab.research.google.com/github/UAPH451551/PH451_551_Sp23/blob/main/Exercises/Statistics_1.ipynb\" target=\"_parent\"><img src=\"https://colab.research.google.com/assets/colab-badge.svg\" alt=\"Open In Colab\"/></a>"
      ]
    },
    {
      "cell_type": "markdown",
      "source": [
        "# Introduction to Statistics (Binary Classification)\n",
        "\n",
        "Before reading this, please review PythonRefreshers_1 and PythonRefreshers_2 <br>\n",
        "and Reading_Documentation."
      ],
      "metadata": {
        "id": "xFE19A0Ua49I"
      }
    },
    {
      "cell_type": "code",
      "source": [
        "!pip install matplotlib==3.6"
      ],
      "metadata": {
        "colab": {
          "base_uri": "https://localhost:8080/"
        },
        "id": "fue96OluPY95",
        "outputId": "d25d2746-0111-43f0-ef73-5e19d15fced9"
      },
      "execution_count": null,
      "outputs": [
        {
          "output_type": "stream",
          "name": "stdout",
          "text": [
            "Looking in indexes: https://pypi.org/simple, https://us-python.pkg.dev/colab-wheels/public/simple/\n",
            "Requirement already satisfied: matplotlib==3.6 in /usr/local/lib/python3.8/dist-packages (3.6.0)\n",
            "Requirement already satisfied: kiwisolver>=1.0.1 in /usr/local/lib/python3.8/dist-packages (from matplotlib==3.6) (1.4.4)\n",
            "Requirement already satisfied: cycler>=0.10 in /usr/local/lib/python3.8/dist-packages (from matplotlib==3.6) (0.11.0)\n",
            "Requirement already satisfied: pillow>=6.2.0 in /usr/local/lib/python3.8/dist-packages (from matplotlib==3.6) (7.1.2)\n",
            "Requirement already satisfied: python-dateutil>=2.7 in /usr/local/lib/python3.8/dist-packages (from matplotlib==3.6) (2.8.2)\n",
            "Requirement already satisfied: numpy>=1.19 in /usr/local/lib/python3.8/dist-packages (from matplotlib==3.6) (1.21.6)\n",
            "Requirement already satisfied: contourpy>=1.0.1 in /usr/local/lib/python3.8/dist-packages (from matplotlib==3.6) (1.0.7)\n",
            "Requirement already satisfied: pyparsing>=2.2.1 in /usr/local/lib/python3.8/dist-packages (from matplotlib==3.6) (3.0.9)\n",
            "Requirement already satisfied: packaging>=20.0 in /usr/local/lib/python3.8/dist-packages (from matplotlib==3.6) (21.3)\n",
            "Requirement already satisfied: fonttools>=4.22.0 in /usr/local/lib/python3.8/dist-packages (from matplotlib==3.6) (4.38.0)\n",
            "Requirement already satisfied: six>=1.5 in /usr/local/lib/python3.8/dist-packages (from python-dateutil>=2.7->matplotlib==3.6) (1.15.0)\n"
          ]
        }
      ]
    },
    {
      "cell_type": "markdown",
      "source": [
        "# ❗❗ IMPORTANT ❗❗ \n",
        "##  After running the above cell, go to \"Runtime\" in Colab and click <br> \"Restart runtime.\" You will run into errors later in the notebook <br> if you don't do this."
      ],
      "metadata": {
        "id": "omC3Yh-kRenz"
      }
    },
    {
      "cell_type": "markdown",
      "source": [
        "### After restarting the runtime, we're ready to get into the notebook"
      ],
      "metadata": {
        "id": "tamqjCkSR8Sw"
      }
    },
    {
      "cell_type": "markdown",
      "source": [
        "Let's consider some metrics for analyzing classifier models. Let's start by<br>\n",
        "generating some fake **binary classification data**. That is to say, we have **data**<br>\n",
        "**which is labeled as either a 0 or 1**. We'll simulate what real predictions <br> \n",
        "look like by \"mislabeling\" the true data by occasionally swapping 0s and 1s in <br>\n",
        "our \"predictions\"."
      ],
      "metadata": {
        "id": "KXY6pYrFR65W"
      }
    },
    {
      "cell_type": "code",
      "execution_count": null,
      "metadata": {
        "id": "22d05473"
      },
      "outputs": [],
      "source": [
        "import numpy as np\n",
        "import matplotlib.pyplot as plt"
      ]
    },
    {
      "cell_type": "code",
      "execution_count": null,
      "metadata": {
        "id": "3ab7a321",
        "outputId": "7d0926a7-20bf-47dc-a9dc-d723f40bd047",
        "colab": {
          "base_uri": "https://localhost:8080/"
        }
      },
      "outputs": [
        {
          "output_type": "stream",
          "name": "stdout",
          "text": [
            "[0. 1. 0. ... 1. 0. 1.]\n",
            "[1. 1. 0. ... 1. 0. 1.]\n"
          ]
        }
      ],
      "source": [
        "label_binary = np.zeros(10000) # Create a list of 0's\n",
        "pred_binary = np.copy(label_binary) # Copy that list\n",
        "for i in range(len(label_binary)):\n",
        "    label_binary[i] += i % 2 # Adding 1 to every other term in the data set\n",
        "for i in range(len(pred_binary)):\n",
        "    pred_binary[i] += (i % 2)\n",
        "    if i % 21 == 0: # Adding some false positives and false negatives\n",
        "        pred_binary[i] -= (i % 2)\n",
        "    if i % 54 == 0:\n",
        "        pred_binary[i] += 1\n",
        "\n",
        "print(label_binary)\n",
        "print(pred_binary)"
      ]
    },
    {
      "cell_type": "markdown",
      "source": [
        "Let's consider this data to represent 1=positive and 0=negative data labels. If<br>\n",
        "our label is 1 and our prediction is 1 then we've correctly identified a **true**<br>\n",
        "**positive** label. If our prediction is 0 and we label it a 1, we have a **false<br>\n",
        "positive**.<br> \n",
        "Likewise:<br>\n",
        "Label 1, prediction 0: **false negative**<br>\n",
        "Label 0, prediction 0: **true negative**<br>\n",
        "\n",
        "The simplest metric you might construct is how often you are correct. Compare<br>\n",
        "the total number of predictions where your prediction matches the label and<br>\n",
        "divide by the total number of labels/predictions."
      ],
      "metadata": {
        "id": "g4Lm9CrUSXxi"
      }
    },
    {
      "cell_type": "code",
      "execution_count": null,
      "metadata": {
        "id": "98e2e90e",
        "outputId": "7ea1893f-7e76-4a7a-9447-ae4051ca3fa5",
        "colab": {
          "base_uri": "https://localhost:8080/"
        }
      },
      "outputs": [
        {
          "output_type": "stream",
          "name": "stdout",
          "text": [
            "Percentage correct prediction:  0.9576\n"
          ]
        }
      ],
      "source": [
        "print('Percentage correct prediction: ', \n",
        "      len(pred_binary[pred_binary == label_binary])/len(pred_binary))"
      ]
    },
    {
      "cell_type": "markdown",
      "source": [
        "A more sophisticated way to analyze binary data is to analyze a **confusion**<br>\n",
        "**matrix**. This lets you know not only when your predictions are wrong or right,<br>\n",
        "but what aspect of prediction your model struggles with. For this, we'll import<br>\n",
        "a confusion matrix tool from **sci-kit learn**."
      ],
      "metadata": {
        "id": "VsK6YfPpS9pt"
      }
    },
    {
      "cell_type": "code",
      "source": [
        "from sklearn.metrics import confusion_matrix"
      ],
      "metadata": {
        "id": "YVdmU-ZMTEmv"
      },
      "execution_count": null,
      "outputs": []
    },
    {
      "cell_type": "markdown",
      "source": [
        "confusion_matrix makes an *n x n* grid where *n* is the number of unique labels in <br>\n",
        "`y_true` and your values in the *n x n* grid are the raw counts of times where your <br>\n",
        "predicted values match your true values. Using `normalize='true'` converts this <br> \n",
        "to a percentage value in decimal form. From top left to bottom right, these are <br>\n",
        "True Negative, False Positive, False Negative, and True Positive."
      ],
      "metadata": {
        "id": "rHSFYGRgg_Ew"
      }
    },
    {
      "cell_type": "code",
      "source": [
        "conf_matrix = confusion_matrix(y_true=label_binary, y_pred=pred_binary, \n",
        "                               labels=[0,1], normalize='true')\n",
        "print(conf_matrix)"
      ],
      "metadata": {
        "colab": {
          "base_uri": "https://localhost:8080/"
        },
        "id": "DNtknHEvHNMT",
        "outputId": "c9728c55-0e77-44f0-a5b6-9978a40e8b8e"
      },
      "execution_count": null,
      "outputs": [
        {
          "output_type": "stream",
          "name": "stdout",
          "text": [
            "[[0.9628 0.0372]\n",
            " [0.0476 0.9524]]\n"
          ]
        }
      ]
    },
    {
      "cell_type": "code",
      "execution_count": null,
      "metadata": {
        "id": "4518778f",
        "outputId": "218723f6-8b90-45c1-a908-ef33022cb165",
        "colab": {
          "base_uri": "https://localhost:8080/",
          "height": 493
        }
      },
      "outputs": [
        {
          "output_type": "stream",
          "name": "stderr",
          "text": [
            "<ipython-input-6-d42e25daa02d>:24: UserWarning: FixedFormatter should only be used together with FixedLocator\n",
            "  ax.set_xticklabels([''] + axis_labels, fontsize=14)\n",
            "<ipython-input-6-d42e25daa02d>:25: UserWarning: FixedFormatter should only be used together with FixedLocator\n",
            "  ax.set_yticklabels([''] + axis_labels, fontsize=14)\n"
          ]
        },
        {
          "output_type": "display_data",
          "data": {
            "text/plain": [
              "<Figure size 432x432 with 1 Axes>"
            ],
            "image/png": "[encoded data removed]"
          },
          "metadata": {
            "needs_background": "light"
          }
        }
      ],
      "source": [
        "# We can optionally add our own matrix square labels\n",
        "matrix_labels = [['True Negative', 'False Positive'], ['False Negative', \n",
        "                                                       'True Positive']]\n",
        "fig, ax = plt.subplots(figsize=(6, 6)) # figure, axis formatting\n",
        "# matshow is a special plot type for matrices.\n",
        "ax.matshow(conf_matrix, cmap=plt.cm.Blues, alpha=.4)\n",
        "for i in range(conf_matrix.shape[0]):\n",
        "    for j in range(conf_matrix.shape[1]):\n",
        "        # %s = add a string placeholder\n",
        "        # \\n = add a line break\n",
        "        # %.2f = add a 2 decimal place floating point value placeholder\n",
        "        # %% = add a percentage sign\n",
        "        # everything after the free % will be inserted into the placeholders\n",
        "        ax.text(x=j, y=i, s=\"%s\\n%.2f%%\"  % (matrix_labels[i][j], \n",
        "                                             (conf_matrix[i,j] * 100 / \n",
        "                                              conf_matrix.shape[1])), \n",
        "                va='center', ha='center', size=18)\n",
        "\n",
        "ax.set_xlabel('Predictions', fontsize=18)\n",
        "ax.set_ylabel('Labels', fontsize=18)\n",
        "# We can optionally add our own axis labels. Defaults to label values.\n",
        "axis_labels = [str(val) for val in range(2)] \n",
        "# Formatting trick for adding custom labels.\n",
        "ax.set_xticklabels([''] + axis_labels, fontsize=14) \n",
        "ax.set_yticklabels([''] + axis_labels, fontsize=14)\n",
        "ax.set_title('Confusion Matrix', fontsize=18) # Add a title.\n",
        "plt.show() # Show plot"
      ]
    },
    {
      "cell_type": "markdown",
      "source": [
        "### Activity\n",
        "**Try to create a confusion matrix for a data set with 3 unique labels: <br>\n",
        "0, 1, 2.**"
      ],
      "metadata": {
        "id": "wIZJktJZJTyC"
      }
    },
    {
      "cell_type": "code",
      "execution_count": null,
      "metadata": {
        "id": "131a2318",
        "outputId": "bd0e5120-9510-4a46-b437-b790f4c90f5b",
        "colab": {
          "base_uri": "https://localhost:8080/"
        }
      },
      "outputs": [
        {
          "output_type": "stream",
          "name": "stdout",
          "text": [
            "[2. 1. 1. 0. 1. 2. 0. 1. 2. 0. 1. 2. 0. 1. 2. 0. 1. 2. 0. 1.]\n"
          ]
        }
      ],
      "source": [
        "# First, create data which contains the labels 0, 1, and 2.\n",
        "\n",
        "label_ternary = np.zeros(10000) # Create a list of 0's\n",
        "pred_ternary = np.copy(label_ternary) # Copy that list\n",
        "for i in range(len(label_ternary)):\n",
        "    label_ternary[i] += i % 3 # Turn list into alternating 0,1,2\n",
        "for i in range(len(pred_ternary)):\n",
        "    pred_ternary[i] += (i % 3)\n",
        "    if i % 21 == 2:\n",
        "        pred_ternary[i] -= 2\n",
        "    if i % 42 == 2:\n",
        "        pred_ternary[i] +=1 \n",
        "    if i % 27 == 1:\n",
        "        pred_ternary[i] -= 1\n",
        "    if i % 33 == 1:\n",
        "        pred_ternary[i] += 1\n",
        "    if i % 39 == 0:\n",
        "        pred_ternary[i] += 1\n",
        "    if i % 48 == 0:\n",
        "        pred_ternary[i] += 1\n",
        "\n",
        "print(pred_ternary[0:20]) # Visualize first 20 samples of prediction array"
      ]
    },
    {
      "cell_type": "markdown",
      "source": [
        "❗❗ Modify the lines of code below which have comments next to them ❗❗"
      ],
      "metadata": {
        "id": "oqKir9hrbgXz"
      }
    },
    {
      "cell_type": "code",
      "source": [
        "conf_matrix = confusion_matrix(y_true=????, y_pred=????, normalize='true') # What do we need to give the confusion matrix function?\n",
        "\n",
        "fig, ax = plt.subplots(figsize=(6, 6))\n",
        "\n",
        "ax.matshow(??????, cmap=plt.cm.Blues, alpha=.4) # What should the first argument in ax.matshow() be?\n",
        "\n",
        "for i in range(conf_matrix.shape[0]):\n",
        "    for j in range(conf_matrix.shape[1]):\n",
        "        ax.text(x=j, y=i, s=\"%.2f%%\"  % (conf_matrix[i,j] * 100 / \n",
        "                                         conf_matrix.shape[1]), \n",
        "               va='center', ha='center', size=18)\n",
        "\n",
        "ax.set_xlabel('?????', fontsize=18) # What should the X axis label be?\n",
        "ax.set_ylabel('?????', fontsize=18) # What should the Y axis label be?\n",
        "\n",
        "axis_labels = [str(val) for val in range(3)] \n",
        "ax.set_xticklabels([''] + axis_labels, fontsize=14) \n",
        "ax.set_yticklabels([''] + axis_labels, fontsize=14)\n",
        "ax.set_title('Confusion Matrix', fontsize=18)\n",
        "plt.show()"
      ],
      "metadata": {
        "id": "pIRVua_TKPFR"
      },
      "execution_count": null,
      "outputs": []
    },
    {
      "cell_type": "code",
      "source": [
        "#@title Solution (try on your own first)\n",
        "\n",
        "conf_matrix = confusion_matrix(y_true=label_ternary, y_pred=pred_ternary, normalize='true')\n",
        "\n",
        "fig, ax = plt.subplots(figsize=(6, 6))\n",
        "\n",
        "ax.matshow(conf_matrix, cmap=plt.cm.Blues, alpha=.4)\n",
        "for i in range(conf_matrix.shape[0]):\n",
        "    for j in range(conf_matrix.shape[1]):\n",
        "        ax.text(x=j, y=i, s=\"%.2f%%\"  % (conf_matrix[i,j] * 100 / \n",
        "                                         conf_matrix.shape[1]), \n",
        "                va='center', ha='center', size=18)\n",
        "\n",
        "ax.set_xlabel('Predictions', fontsize=18)\n",
        "ax.set_ylabel('Labels', fontsize=18)\n",
        "\n",
        "axis_labels = [str(val) for val in range(3)] \n",
        "ax.set_xticklabels([''] + axis_labels, fontsize=14) \n",
        "ax.set_yticklabels([''] + axis_labels, fontsize=14)\n",
        "ax.set_title('Confusion Matrix', fontsize=18)\n",
        "plt.show()"
      ],
      "metadata": {
        "id": "LbcKCUtETytn"
      },
      "execution_count": null,
      "outputs": []
    },
    {
      "cell_type": "markdown",
      "source": [
        "A useful metric for binary classification with continuous values (i.e. not <br> exactly 0 or exactly 1) is the Receiver Operating Characteristic, or ROC curve, <br> \n",
        "along with the area underneath that curve. <br>\n",
        "\n",
        "Going back to our original dataset, imagine that if instead of exact labels,<br> \n",
        "our model gave inexact predictions (usually the case in machine learning). <br> We'll use the ROC and AUC tools from the sci-kit  learn metrics library."
      ],
      "metadata": {
        "id": "aePZSZ9aUIK1"
      }
    },
    {
      "cell_type": "code",
      "execution_count": null,
      "metadata": {
        "id": "b769e46b",
        "outputId": "f4add4a8-d5af-4f36-cb83-7b6644ad8443",
        "colab": {
          "base_uri": "https://localhost:8080/"
        }
      },
      "outputs": [
        {
          "output_type": "stream",
          "name": "stdout",
          "text": [
            "Labels : [0. 1. 0. ... 1. 0. 1.]\n",
            "Predictions : [0.8060724  0.73453115 0.1172285  ... 0.80111677 0.17274015 0.46786545]\n"
          ]
        }
      ],
      "source": [
        "from sklearn.metrics import roc_curve, auc\n",
        "\n",
        "label_binary = np.zeros(10000) # Create a list of 0's\n",
        "pred_binary = np.zeros(10000) # Copy that list\n",
        "for i in range(len(label_binary)):\n",
        "    label_binary[i] += i % 2 # Add 1 to every other term\n",
        "for i in range(len(pred_binary)):\n",
        "    pred_binary[i] += (i % 2)\n",
        "    if i % 21 == 0: # Adding some false positives and false negatives.\n",
        "        pred_binary[i] -= (i % 2)\n",
        "    if i % 54 == 0:\n",
        "        pred_binary[i] += 1\n",
        "#Adding some \"additive gaussian white noise\"\n",
        "pred_binary[pred_binary == 1] -= np.random.normal(loc=.25, scale=.15, \n",
        "  size=len(pred_binary[pred_binary == 1]))\n",
        "pred_binary[pred_binary == 0] += np.random.normal(loc=.25, scale=.15, \n",
        "  size=len(pred_binary[pred_binary == 0]))\n",
        "\n",
        "print('Labels :', label_binary)\n",
        "print('Predictions :', pred_binary)\n",
        "\n",
        "false_positive_rate, true_positive_rate, _ = roc_curve(label_binary, pred_binary)\n",
        "roc_auc = auc(false_positive_rate, true_positive_rate)"
      ]
    },
    {
      "cell_type": "markdown",
      "source": [
        "**Note: it's still possible to estimate our total number of correct predictions** <br> \n",
        "**by rounding to the nearest label**. You may notice that your total correct <br> predictions are often similar to the area under the ROC curve but this is not <br>\n",
        "necessarily always the case. You would need only to change the scale of the random <br> \n",
        "normal distributions to see these two values grow further apart or closer <br> together."
      ],
      "metadata": {
        "id": "b2vR_fkjUhdo"
      }
    },
    {
      "cell_type": "code",
      "execution_count": null,
      "metadata": {
        "id": "2f09fb1a",
        "colab": {
          "base_uri": "https://localhost:8080/"
        },
        "outputId": "3b29909e-37a3-4038-f4a8-ecd541b2e31c"
      },
      "outputs": [
        {
          "output_type": "stream",
          "name": "stdout",
          "text": [
            "Percentage correct prediction:  0.9125\n",
            "Area under the ROC curve:  0.94889652\n"
          ]
        }
      ],
      "source": [
        "rounded_pred = np.copy(pred_binary)\n",
        "rounded_pred[rounded_pred > .5] = 1\n",
        "rounded_pred[rounded_pred <= .5] = 0\n",
        "print('Percentage correct prediction: ', \n",
        "      len(rounded_pred[rounded_pred == label_binary])/len(rounded_pred))\n",
        "print('Area under the ROC curve: ', roc_auc)"
      ]
    },
    {
      "cell_type": "markdown",
      "source": [
        "Here we plot the ROC curve by plotting the calculated true positive rates <br> against the calculated false positive rates. In other words, **we're visualizing** <br>\n",
        "**how likely we are to be correct when we guess \"True\" or 1 or Positive.**"
      ],
      "metadata": {
        "id": "Dj5XO7PGUqBS"
      }
    },
    {
      "cell_type": "code",
      "execution_count": null,
      "metadata": {
        "id": "286dedd0",
        "colab": {
          "base_uri": "https://localhost:8080/",
          "height": 410
        },
        "outputId": "bdf3464c-ac64-4542-94c1-f3010cf781c9"
      },
      "outputs": [
        {
          "output_type": "display_data",
          "data": {
            "text/plain": [
              "<Figure size 432x432 with 1 Axes>"
            ],
            "image/png": "[encoded data removed]"
          },
          "metadata": {
            "needs_background": "light"
          }
        }
      ],
      "source": [
        "plt.title(\"Receiver Operating Characteristic Curve\", fontsize=14) # Add title\n",
        "# Line plot of TPR vs FPR. Line width = 2. Standard ROC curve color scheme.\n",
        "plt.plot(false_positive_rate, true_positive_rate, color=\"darkorange\", lw=2,\n",
        "         label=\"ROC curve (area = %0.3f)\" % roc_auc)\n",
        "# Diagonal 1-1 line representing random chance.\n",
        "plt.plot([0, 1], [0, 1], color=\"navy\", lw=2, linestyle=\"--\")\n",
        "plt.xlim([0.0, 1.0]) # Set x limit from 0 to 1 for range ROC curve plot\n",
        "plt.ylim([0.0, 1.05]) # Set ylimit slightly above 1 for visibility of top of ROC curve\n",
        "plt.gca().figure.set_size_inches(6,6) # Setting a larger figure size. plt.gca() allows changing fig,ax\n",
        "plt.gca().set_box_aspect(1) # Making plot square\n",
        "plt.xlabel(\"False Positive Rate\", fontsize=16)\n",
        "plt.ylabel(\"True Positive Rate\", fontsize=16)\n",
        "plt.legend(loc=\"lower right\", fontsize=14)\n",
        "plt.show()"
      ]
    },
    {
      "cell_type": "markdown",
      "source": [
        "Notice how we have fairly smooth behavior of the curve. That's an indicator <br> \n",
        "that your predictions have some sort of a gaussian error. **If you ever notice** <br> \n",
        "**sharp angles in a ROC curve**, you should probably **start looking for systematic** <br> \n",
        "**biases and errors**. "
      ],
      "metadata": {
        "id": "sizkMS3gUtbA"
      }
    }
  ]
}