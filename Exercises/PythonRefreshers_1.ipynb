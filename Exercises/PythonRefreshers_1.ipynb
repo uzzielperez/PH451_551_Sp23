{
  "nbformat": 4,
  "nbformat_minor": 0,
  "metadata": {
    "colab": {
      "provenance": [],
      "include_colab_link": true
    },
    "kernelspec": {
      "name": "python3",
      "display_name": "Python 3"
    },
    "language_info": {
      "name": "python"
    }
  },
  "cells": [
    {
      "cell_type": "markdown",
      "metadata": {
        "id": "view-in-github",
        "colab_type": "text"
      },
      "source": [
        "<a href=\"https://colab.research.google.com/github/UAPH451551/PH451_551_Sp23/blob/main/Exercises/PythonRefreshers_1.ipynb\" target=\"_parent\"><img src=\"https://colab.research.google.com/assets/colab-badge.svg\" alt=\"Open In Colab\"/></a>"
      ]
    },
    {
      "cell_type": "markdown",
      "source": [
        "# Literals, Variables and Functions\n",
        "\n",
        "Some resources\n",
        "- [Python Documentation](https://www.python.org/doc/)\n",
        "- [Tutorial that inspired this](https://learnxinyminutes.com/docs/python/)\n",
        "- [w3schools Python Tutorials](https://www.w3schools.com/python/)"
      ],
      "metadata": {
        "id": "-ghAxWOAX-mH"
      }
    },
    {
      "cell_type": "markdown",
      "source": [
        "Many functions will *automatically* print text when run independently in a code <br>\n",
        "block. However, you can always manually use the **print()** function to be able to <br>\n",
        "view some sort of output."
      ],
      "metadata": {
        "id": "A1o-yjITmQNS"
      }
    },
    {
      "cell_type": "code",
      "source": [
        "print(\"Hello World!\")"
      ],
      "metadata": {
        "colab": {
          "base_uri": "https://localhost:8080/"
        },
        "id": "3-uCQvXiYT_Y",
        "outputId": "e2d4032d-8515-4af8-dc04-cb6c8890af39"
      },
      "execution_count": null,
      "outputs": [
        {
          "output_type": "stream",
          "name": "stdout",
          "text": [
            "Hello World!\n"
          ]
        }
      ]
    },
    {
      "cell_type": "markdown",
      "source": [
        "You can **print multiple separate items using comma separation**. You can also <br>\n",
        "print items of different types such as the example below where we print a <br>\n",
        "string of text followed by an integer then another string of text."
      ],
      "metadata": {
        "id": "cIAduFzim9iB"
      }
    },
    {
      "cell_type": "code",
      "source": [
        "print(\"The answer is\", 42, \".\")"
      ],
      "metadata": {
        "colab": {
          "base_uri": "https://localhost:8080/"
        },
        "id": "MicAbQUsY9eR",
        "outputId": "fc1ccde6-23e7-4f0f-86cb-8f991177f3f0"
      },
      "execution_count": null,
      "outputs": [
        {
          "output_type": "stream",
          "name": "stdout",
          "text": [
            "The answer is 42 .\n"
          ]
        }
      ]
    },
    {
      "cell_type": "markdown",
      "source": [
        "# Some basic operations"
      ],
      "metadata": {
        "id": "1q1ZBM84bORy"
      }
    },
    {
      "cell_type": "markdown",
      "source": [
        "## Literal Types (numbers and strings)"
      ],
      "metadata": {
        "id": "e2QlfbdPeibA"
      }
    },
    {
      "cell_type": "markdown",
      "source": [
        "The most common number types you might work with are **integers** and **floats**. <br>\n",
        "Floats are numbers which are followed by decimal places. Wrapping a value in <br>\n",
        "**quotation marks changes its type to a string** which is a text data type and is <br>\n",
        "treated differently than numbers.\n",
        "\n",
        "We can check the type of an object using Python's built-in **type()** function"
      ],
      "metadata": {
        "id": "R14LoykHnlmx"
      }
    },
    {
      "cell_type": "code",
      "source": [
        "type(1)"
      ],
      "metadata": {
        "colab": {
          "base_uri": "https://localhost:8080/"
        },
        "id": "Z1BQSXwDeoqu",
        "outputId": "e5777493-3173-4345-f5c0-6e37436332ac"
      },
      "execution_count": null,
      "outputs": [
        {
          "output_type": "execute_result",
          "data": {
            "text/plain": [
              "int"
            ]
          },
          "metadata": {},
          "execution_count": 5
        }
      ]
    },
    {
      "cell_type": "code",
      "source": [
        "type(1.0)"
      ],
      "metadata": {
        "colab": {
          "base_uri": "https://localhost:8080/"
        },
        "id": "a-QP6r4lep9w",
        "outputId": "611eb895-06c4-4d9f-c73f-50bb7b62041b"
      },
      "execution_count": null,
      "outputs": [
        {
          "output_type": "execute_result",
          "data": {
            "text/plain": [
              "float"
            ]
          },
          "metadata": {},
          "execution_count": 6
        }
      ]
    },
    {
      "cell_type": "code",
      "source": [
        "type(\"1.0\")"
      ],
      "metadata": {
        "colab": {
          "base_uri": "https://localhost:8080/"
        },
        "id": "FOd9otgzerQl",
        "outputId": "9abb719d-7944-48a0-c9ae-799790e27cb1"
      },
      "execution_count": null,
      "outputs": [
        {
          "output_type": "execute_result",
          "data": {
            "text/plain": [
              "str"
            ]
          },
          "metadata": {},
          "execution_count": 7
        }
      ]
    },
    {
      "cell_type": "markdown",
      "source": [
        "### Mathematical Operators:\n",
        "\\+ addition <br>\n",
        "\\- subtraction <br>\n",
        "/ division <br>\n",
        "\\* multiplication <br>\n",
        "\\*\\* raise to the power of <br>\n",
        "% return the remainder of division <br>\n",
        "// divide then round down\n"
      ],
      "metadata": {
        "id": "uJXx4AitpCeG"
      }
    },
    {
      "cell_type": "code",
      "source": [
        "# You can add a # to convert code to a comment so it's not run as code\n",
        "1 + 1   # => 2\n",
        "8 - 1   # => 7\n",
        "10 * 2  # => 20\n",
        "35 / 5  # => 7.0\n",
        "9 ** 2  # => 81\n",
        "15 % 6  # => 3\n",
        "27 // 6 # => 4\n",
        "\n",
        "# notice that Google Colab only prints the last output "
      ],
      "metadata": {
        "colab": {
          "base_uri": "https://localhost:8080/"
        },
        "id": "a2iSCawqZDbZ",
        "outputId": "25760abe-8bfa-4e4d-ae8e-58c130cec522"
      },
      "execution_count": null,
      "outputs": [
        {
          "output_type": "execute_result",
          "data": {
            "text/plain": [
              "4"
            ]
          },
          "metadata": {},
          "execution_count": 8
        }
      ]
    },
    {
      "cell_type": "code",
      "source": [
        "# Enforce precedence with parentheses\n",
        "1 + 3 * 2    # => 7"
      ],
      "metadata": {
        "colab": {
          "base_uri": "https://localhost:8080/"
        },
        "id": "Gj5tapTQajY3",
        "outputId": "b399aeac-2f12-4728-931d-eef9acbb6a1c"
      },
      "execution_count": null,
      "outputs": [
        {
          "output_type": "execute_result",
          "data": {
            "text/plain": [
              "7"
            ]
          },
          "metadata": {},
          "execution_count": 9
        }
      ]
    },
    {
      "cell_type": "code",
      "source": [
        "(1 + 3) * 2  # => 8"
      ],
      "metadata": {
        "colab": {
          "base_uri": "https://localhost:8080/"
        },
        "id": "1xsG2lDtgNdD",
        "outputId": "316a2ffb-3033-4e66-8d27-c624a5663024"
      },
      "execution_count": null,
      "outputs": [
        {
          "output_type": "execute_result",
          "data": {
            "text/plain": [
              "8"
            ]
          },
          "metadata": {},
          "execution_count": 10
        }
      ]
    },
    {
      "cell_type": "markdown",
      "source": [
        "## Variables\n",
        "\n",
        "**Variables** are a way to **store a value to your computer's memory** so that you can <br>\n",
        "reuse it and perform operations on it later."
      ],
      "metadata": {
        "id": "1QnlZFzjb2xG"
      }
    },
    {
      "cell_type": "code",
      "source": [
        "a = 1\n",
        "b = 2\n",
        "a + b"
      ],
      "metadata": {
        "colab": {
          "base_uri": "https://localhost:8080/"
        },
        "id": "cKidJzv-b5PP",
        "outputId": "c7246bb1-e376-4d59-aaac-170f38cffa76"
      },
      "execution_count": null,
      "outputs": [
        {
          "output_type": "execute_result",
          "data": {
            "text/plain": [
              "3"
            ]
          },
          "metadata": {},
          "execution_count": 17
        }
      ]
    },
    {
      "cell_type": "code",
      "source": [
        "c = a + b\n",
        "c"
      ],
      "metadata": {
        "colab": {
          "base_uri": "https://localhost:8080/"
        },
        "id": "4u2Hy_32t-t8",
        "outputId": "3043c8d8-2262-4016-ad37-7d7066d9eefc"
      },
      "execution_count": null,
      "outputs": [
        {
          "output_type": "execute_result",
          "data": {
            "text/plain": [
              "3"
            ]
          },
          "metadata": {},
          "execution_count": 18
        }
      ]
    },
    {
      "cell_type": "code",
      "source": [
        "some_string = \"This is some string\"\n",
        "some_string + \".\""
      ],
      "metadata": {
        "colab": {
          "base_uri": "https://localhost:8080/",
          "height": 35
        },
        "id": "gQg_a5Gdb9Y2",
        "outputId": "16f98ad5-ae0a-471d-832c-d33bfefd7830"
      },
      "execution_count": null,
      "outputs": [
        {
          "output_type": "execute_result",
          "data": {
            "text/plain": [
              "'This is some string.'"
            ],
            "application/vnd.google.colaboratory.intrinsic+json": {
              "type": "string"
            }
          },
          "metadata": {},
          "execution_count": 19
        }
      ]
    },
    {
      "cell_type": "markdown",
      "source": [
        "Once you have a value stored as a variable, you can print it out using multiple <br>\n",
        "formats. Two examples are shown below. The **%d is a placeholder** for an <br>\n",
        "integer. Other common placeholders would be %lf for floats and %s for strings."
      ],
      "metadata": {
        "id": "wWKuaCWJuVCk"
      }
    },
    {
      "cell_type": "code",
      "source": [
        "print(\"%d + %d = %d\" % (a,b,c))\n",
        "print(a, '+', b, '=', c)"
      ],
      "metadata": {
        "colab": {
          "base_uri": "https://localhost:8080/"
        },
        "id": "75t9pzmRuLHh",
        "outputId": "a7a10bbd-6b71-4343-86ce-6c8b350a1519"
      },
      "execution_count": null,
      "outputs": [
        {
          "output_type": "stream",
          "name": "stdout",
          "text": [
            "1 + 2 = 3\n",
            "1 + 2 = 3\n"
          ]
        }
      ]
    },
    {
      "cell_type": "markdown",
      "source": [
        "## Lists, Arrays, and Dataframes\n",
        "\n",
        "Python allows you to store **collections of values** in a default format called a <br>\n",
        "list. **In this course we'll mostly be working with structures called arrays and <br>\n",
        "dataframes.** We'll cover those in the next tutorial. For now, just know that <br>\n",
        "the code below explores some things you can do with lists, most of which work <br>\n",
        "with arrays and dataframes as well, and that lists, arrays, and dataframes are <br>\n",
        "all ways to store collections of variables."
      ],
      "metadata": {
        "id": "DutzwHopbMPl"
      }
    },
    {
      "cell_type": "code",
      "source": [
        "arr = [1, 2, 3, 4, 5, 6]"
      ],
      "metadata": {
        "id": "x4QzJzKfbJud"
      },
      "execution_count": null,
      "outputs": []
    },
    {
      "cell_type": "code",
      "source": [
        "arr"
      ],
      "metadata": {
        "colab": {
          "base_uri": "https://localhost:8080/"
        },
        "id": "NqDW3_wIxExP",
        "outputId": "552e43be-437d-4769-a2ad-5156050dc0bc"
      },
      "execution_count": null,
      "outputs": [
        {
          "output_type": "execute_result",
          "data": {
            "text/plain": [
              "[1, 2, 3, 4, 5, 6]"
            ]
          },
          "metadata": {},
          "execution_count": 22
        }
      ]
    },
    {
      "cell_type": "code",
      "source": [
        "type(arr)"
      ],
      "metadata": {
        "colab": {
          "base_uri": "https://localhost:8080/"
        },
        "id": "inzhTA0pwdbO",
        "outputId": "6b0a4f5b-454c-4739-f79b-78bd4c9edbf8"
      },
      "execution_count": null,
      "outputs": [
        {
          "output_type": "execute_result",
          "data": {
            "text/plain": [
              "list"
            ]
          },
          "metadata": {},
          "execution_count": 23
        }
      ]
    },
    {
      "cell_type": "markdown",
      "source": [
        "You can access items by their index value or position within the list. arr[0] <br>\n",
        "is the index for the first item. **Indices start at 0.**"
      ],
      "metadata": {
        "id": "cSdfzx4AxCiE"
      }
    },
    {
      "cell_type": "code",
      "source": [
        "arr[0]"
      ],
      "metadata": {
        "colab": {
          "base_uri": "https://localhost:8080/"
        },
        "id": "InfzWJRCbYbj",
        "outputId": "ce3a9213-e855-45b1-8d7d-3e4dc197a7f0"
      },
      "execution_count": null,
      "outputs": [
        {
          "output_type": "execute_result",
          "data": {
            "text/plain": [
              "1"
            ]
          },
          "metadata": {},
          "execution_count": 24
        }
      ]
    },
    {
      "cell_type": "markdown",
      "source": [
        "arr[0:3] means that we're accessing items from the list from the index of 0 <br>\n",
        "(first item) **up to the index of 3-1=2** (third item)."
      ],
      "metadata": {
        "id": "Qk7c4cajxbao"
      }
    },
    {
      "cell_type": "code",
      "source": [
        "arr[0:3]"
      ],
      "metadata": {
        "colab": {
          "base_uri": "https://localhost:8080/"
        },
        "id": "KLrKxwvhbeW1",
        "outputId": "ce5eb269-cff9-47ad-d817-050780423794"
      },
      "execution_count": null,
      "outputs": [
        {
          "output_type": "execute_result",
          "data": {
            "text/plain": [
              "[1, 2, 3]"
            ]
          },
          "metadata": {},
          "execution_count": 25
        }
      ]
    },
    {
      "cell_type": "code",
      "source": [
        "arr[1:3]"
      ],
      "metadata": {
        "colab": {
          "base_uri": "https://localhost:8080/"
        },
        "id": "MbZwqPt1VfvT",
        "outputId": "5a7de90d-e3e3-4945-e979-7a09f6131ff5"
      },
      "execution_count": null,
      "outputs": [
        {
          "output_type": "execute_result",
          "data": {
            "text/plain": [
              "[2, 3]"
            ]
          },
          "metadata": {},
          "execution_count": 26
        }
      ]
    },
    {
      "cell_type": "markdown",
      "source": [
        "If we don't specify an ending index, it will go from the starting index to the <br> \n",
        "end of the list."
      ],
      "metadata": {
        "id": "UmH6Qhw4x8fA"
      }
    },
    {
      "cell_type": "code",
      "source": [
        "arr[2:]"
      ],
      "metadata": {
        "colab": {
          "base_uri": "https://localhost:8080/"
        },
        "id": "xec4vAdfVhzx",
        "outputId": "07f657bf-5298-430e-d04a-aa2aeb11140f"
      },
      "execution_count": null,
      "outputs": [
        {
          "output_type": "execute_result",
          "data": {
            "text/plain": [
              "[3, 4, 5, 6]"
            ]
          },
          "metadata": {},
          "execution_count": 27
        }
      ]
    },
    {
      "cell_type": "markdown",
      "source": [
        "**Negative indices start counting from -1** to -(number of items in list) and are a <br>\n",
        "way to **access items from the end of the list** first. To print the last 3 items, <br>\n",
        "you would use arr[-3:] without specifying the end point."
      ],
      "metadata": {
        "id": "5dz3iZNOyO2y"
      }
    },
    {
      "cell_type": "code",
      "source": [
        "arr[-1]"
      ],
      "metadata": {
        "colab": {
          "base_uri": "https://localhost:8080/"
        },
        "id": "MMqTZ0OJbgsc",
        "outputId": "f355cdb9-403b-4d21-ce4e-45138e810a25"
      },
      "execution_count": null,
      "outputs": [
        {
          "output_type": "execute_result",
          "data": {
            "text/plain": [
              "6"
            ]
          },
          "metadata": {},
          "execution_count": 28
        }
      ]
    },
    {
      "cell_type": "code",
      "source": [
        "arr[-3:]"
      ],
      "metadata": {
        "colab": {
          "base_uri": "https://localhost:8080/"
        },
        "id": "KitOc3ObympS",
        "outputId": "5263b5c2-b6e0-4f77-c3fc-4479ce1aecc4"
      },
      "execution_count": null,
      "outputs": [
        {
          "output_type": "execute_result",
          "data": {
            "text/plain": [
              "[4, 5, 6]"
            ]
          },
          "metadata": {},
          "execution_count": 29
        }
      ]
    },
    {
      "cell_type": "markdown",
      "source": [
        "We can also append items to lists which means add them to the end of the list."
      ],
      "metadata": {
        "id": "2d8S6gE56_B7"
      }
    },
    {
      "cell_type": "code",
      "source": [
        "names = [\"Goku\"]\n",
        "names"
      ],
      "metadata": {
        "colab": {
          "base_uri": "https://localhost:8080/"
        },
        "id": "FAWAfOX3clXz",
        "outputId": "4f80b76f-15cf-4b43-e14f-121fe05f957a"
      },
      "execution_count": null,
      "outputs": [
        {
          "output_type": "execute_result",
          "data": {
            "text/plain": [
              "['Goku']"
            ]
          },
          "metadata": {},
          "execution_count": 33
        }
      ]
    },
    {
      "cell_type": "code",
      "source": [
        "names.append(\"Vegeta\")\n",
        "names.append(\"Kuririn\")\n",
        "names"
      ],
      "metadata": {
        "colab": {
          "base_uri": "https://localhost:8080/"
        },
        "id": "Ukzj6mX5cwtJ",
        "outputId": "251edeb9-9415-4b83-a30c-5d13cecfa01d"
      },
      "execution_count": null,
      "outputs": [
        {
          "output_type": "execute_result",
          "data": {
            "text/plain": [
              "['Goku', 'Vegeta', 'Kuririn']"
            ]
          },
          "metadata": {},
          "execution_count": 34
        }
      ]
    },
    {
      "cell_type": "markdown",
      "source": [
        "It's also possible to **overwrite** an item in place. **Be careful of this.** Sometimes <br> \n",
        "it might make more sense to make a new array rather than overwrite an old one."
      ],
      "metadata": {
        "id": "wrwLSVcu7KTD"
      }
    },
    {
      "cell_type": "code",
      "source": [
        "names[0] = \"Frieza\"\n",
        "names"
      ],
      "metadata": {
        "colab": {
          "base_uri": "https://localhost:8080/"
        },
        "id": "wjtp2LW37PcL",
        "outputId": "af1a566a-df0a-44f7-9bc4-cf64f731be21"
      },
      "execution_count": null,
      "outputs": [
        {
          "output_type": "execute_result",
          "data": {
            "text/plain": [
              "['Frieza', 'Vegeta', 'Kuririn']"
            ]
          },
          "metadata": {},
          "execution_count": 35
        }
      ]
    },
    {
      "cell_type": "markdown",
      "source": [
        "## For Loops\n",
        "\n",
        "There are **two common types of loops** in most programming languages, **the \"for\"** <br>\n",
        "**loop** and **the \"while\" loop**. In this course we'll almost exclusively be <br>\n",
        "using the for loop but we'll briefly review while loops in PythonRefreshers_2."
      ],
      "metadata": {
        "id": "9_RbQ2BFTN0l"
      }
    },
    {
      "cell_type": "markdown",
      "source": [
        "Python makes it easy to **access items from a list in order using \"in\"**.\n",
        "\n",
        "```python\n",
        "for a in b:\n",
        "  print(a)\n",
        "```\n",
        "\n",
        "The above code has as the meaning that you're going to **unpack some colleciton <br>**\n",
        "**(b)** and for each item (a) in that collection, you want to **perform some function** <br>\n",
        "such as print() **on that item (a)**. This is called a **\"for loop\"**."
      ],
      "metadata": {
        "id": "HwsPPG6dzPDS"
      }
    },
    {
      "cell_type": "code",
      "source": [
        "for item in [1,2,3,4,5]:\n",
        "  print(item)"
      ],
      "metadata": {
        "colab": {
          "base_uri": "https://localhost:8080/"
        },
        "id": "10xLz_JmVOt6",
        "outputId": "2315b98c-4486-4a03-ecdf-206dd7b35f8d"
      },
      "execution_count": null,
      "outputs": [
        {
          "output_type": "stream",
          "name": "stdout",
          "text": [
            "1\n",
            "2\n",
            "3\n",
            "4\n",
            "5\n"
          ]
        }
      ]
    },
    {
      "cell_type": "code",
      "source": [
        "for item in [1,2,3,4,5]:\n",
        "  print(\"Hello\")"
      ],
      "metadata": {
        "colab": {
          "base_uri": "https://localhost:8080/"
        },
        "id": "9LOaEa_cVVg6",
        "outputId": "79c979e1-878f-42d1-c78f-7fe488c93b28"
      },
      "execution_count": null,
      "outputs": [
        {
          "output_type": "stream",
          "name": "stdout",
          "text": [
            "Hello\n",
            "Hello\n",
            "Hello\n",
            "Hello\n",
            "Hello\n"
          ]
        }
      ]
    },
    {
      "cell_type": "code",
      "source": [
        "for a in arr:\n",
        "  print(a*a)"
      ],
      "metadata": {
        "colab": {
          "base_uri": "https://localhost:8080/"
        },
        "id": "agMIt45tbwUs",
        "outputId": "2df0589e-ad7b-4327-9dbe-f9378adde6b4"
      },
      "execution_count": null,
      "outputs": [
        {
          "output_type": "stream",
          "name": "stdout",
          "text": [
            "1\n",
            "4\n",
            "9\n",
            "16\n",
            "25\n",
            "36\n"
          ]
        }
      ]
    },
    {
      "cell_type": "markdown",
      "source": [
        "The below function is doing the following:\n",
        "\n",
        "```python\n",
        "newarr = []\n",
        "for x in arr:\n",
        "  newarr.append(x**3)\n",
        "newarr\n",
        "```\n",
        "\n",
        "We're running a for loop that **applies a mathematical operation to each item in <br>**\n",
        "**the list** then **creating a new array** from that list and **storing it**. A <br> better way to write this code is the following in a single line."
      ],
      "metadata": {
        "id": "4Ljg9uzb0nhl"
      }
    },
    {
      "cell_type": "code",
      "source": [
        "newarr = [x**3 for x in arr]  # python list comprehensions\n",
        "newarr"
      ],
      "metadata": {
        "colab": {
          "base_uri": "https://localhost:8080/"
        },
        "id": "GBu221QZcyY_",
        "outputId": "5fd49465-7ac0-4772-ca83-036ff1dbf748"
      },
      "execution_count": null,
      "outputs": [
        {
          "output_type": "execute_result",
          "data": {
            "text/plain": [
              "[1, 8, 27, 64, 125, 216]"
            ]
          },
          "metadata": {},
          "execution_count": 36
        }
      ]
    },
    {
      "cell_type": "markdown",
      "source": [
        "The function range(start, stop, step) says **starting at \"start\" integer** and <br>\n",
        "going **up to but not including \"stop\" integer** create a list of items which **go <br>\n",
        "up in value each time by \"step\" integer**."
      ],
      "metadata": {
        "id": "4ThkOucI1vdB"
      }
    },
    {
      "cell_type": "code",
      "source": [
        "for i in range(0,4,1):\n",
        "    print(i)"
      ],
      "metadata": {
        "colab": {
          "base_uri": "https://localhost:8080/"
        },
        "id": "0A3XNHgidN8A",
        "outputId": "858d8390-f0ed-40b8-b0b8-15e3449e2bb9"
      },
      "execution_count": null,
      "outputs": [
        {
          "output_type": "stream",
          "name": "stdout",
          "text": [
            "0\n",
            "1\n",
            "2\n",
            "3\n"
          ]
        }
      ]
    },
    {
      "cell_type": "markdown",
      "source": [
        "If you don't specify, the default start value is 0 and step value is 1."
      ],
      "metadata": {
        "id": "3D3-gebr3M09"
      }
    },
    {
      "cell_type": "code",
      "source": [
        "for i in range(4):\n",
        "    print(i)"
      ],
      "metadata": {
        "colab": {
          "base_uri": "https://localhost:8080/"
        },
        "id": "_p1dAfIa17Jc",
        "outputId": "e12b7ab8-c6d7-4fe8-cb16-adab3f12455b"
      },
      "execution_count": null,
      "outputs": [
        {
          "output_type": "stream",
          "name": "stdout",
          "text": [
            "0\n",
            "1\n",
            "2\n",
            "3\n"
          ]
        }
      ]
    },
    {
      "cell_type": "markdown",
      "source": [
        "### Booleans\n",
        "\n",
        "**Booleans** are a form of logical data type that **let you check whether a statement** <br>\n",
        "**is true or false**. There are several operators that let you compare <br>\n",
        "python variables and values and return a boolean.\n",
        "\n"
      ],
      "metadata": {
        "id": "KI54vSx2rGfG"
      }
    },
    {
      "cell_type": "code",
      "source": [
        "# Boolean values are primitives (Note: the capitalization)\n",
        "True   # => True\n",
        "False  # => False"
      ],
      "metadata": {
        "colab": {
          "base_uri": "https://localhost:8080/"
        },
        "id": "CFuvMDKEanqW",
        "outputId": "c1d43362-8096-42ec-d8eb-4df35eb3463b"
      },
      "execution_count": null,
      "outputs": [
        {
          "output_type": "execute_result",
          "data": {
            "text/plain": [
              "False"
            ]
          },
          "metadata": {},
          "execution_count": 11
        }
      ]
    },
    {
      "cell_type": "code",
      "source": [
        "# negate with not\n",
        "not True   # => False\n",
        "not False  # => True"
      ],
      "metadata": {
        "id": "UaXa5b2jazCU",
        "colab": {
          "base_uri": "https://localhost:8080/"
        },
        "outputId": "4406c413-a390-488f-a5b7-d61c737d249d"
      },
      "execution_count": null,
      "outputs": [
        {
          "output_type": "execute_result",
          "data": {
            "text/plain": [
              "True"
            ]
          },
          "metadata": {},
          "execution_count": 12
        }
      ]
    },
    {
      "cell_type": "markdown",
      "source": [
        "**and** can be added as a condition when you have several conditions which <br>\n",
        "**should all be true**. **or** can be added when you **only need one condition to** <br> \n",
        "**be true**."
      ],
      "metadata": {
        "id": "Rz87s8kWsAe8"
      }
    },
    {
      "cell_type": "code",
      "source": [
        "# Boolean Operators\n",
        "# Note \"and\" and \"or\" are case-sensitive\n",
        "True and True   # => True\n",
        "True and False  # => False\n",
        "False or True   # => True\n",
        "False or False  # => False"
      ],
      "metadata": {
        "colab": {
          "base_uri": "https://localhost:8080/"
        },
        "id": "f1zlTMEXbAeo",
        "outputId": "de132dd3-a140-4e45-ebd6-49d4486d4204"
      },
      "execution_count": null,
      "outputs": [
        {
          "output_type": "execute_result",
          "data": {
            "text/plain": [
              "False"
            ]
          },
          "metadata": {},
          "execution_count": 13
        }
      ]
    },
    {
      "cell_type": "markdown",
      "source": [
        "#### Other boolean operators:\n",
        "\\== &nbsp; checks whether two values are equal <br>\n",
        "\\!= &nbsp; checks whether two values are NOT equal <br>\n",
        "\\< &nbsp;  checks whether the first value is less than the second value <br>\n",
        "\\> &nbsp;  checks whether the first value is greater than the second value <br>\n",
        "<= and >= add a True condition if the values are exactly equal <br>"
      ],
      "metadata": {
        "id": "ZRn2L3AagZ85"
      }
    },
    {
      "cell_type": "code",
      "source": [
        "# Equality is ==\n",
        "1 == 1  # => True\n",
        "2 == 1  # => False"
      ],
      "metadata": {
        "colab": {
          "base_uri": "https://localhost:8080/"
        },
        "id": "Dh4fdaBibA5G",
        "outputId": "012218d0-a60f-412a-f4fb-dc4606e38971"
      },
      "execution_count": null,
      "outputs": [
        {
          "output_type": "execute_result",
          "data": {
            "text/plain": [
              "False"
            ]
          },
          "metadata": {},
          "execution_count": 14
        }
      ]
    },
    {
      "cell_type": "code",
      "source": [
        "# Inequality is !=\n",
        "1 != 1  # => False\n",
        "2 != 1  # => True"
      ],
      "metadata": {
        "colab": {
          "base_uri": "https://localhost:8080/"
        },
        "id": "NwXocQjKbEKV",
        "outputId": "a9409e0e-cfce-4fc6-b4db-17a33b6d73e8"
      },
      "execution_count": null,
      "outputs": [
        {
          "output_type": "execute_result",
          "data": {
            "text/plain": [
              "True"
            ]
          },
          "metadata": {},
          "execution_count": 15
        }
      ]
    },
    {
      "cell_type": "code",
      "source": [
        "# More comparisons\n",
        "1 < 10  # => True\n",
        "1 > 10  # => False\n",
        "2 <= 2  # => True\n",
        "2 >= 2  # => True"
      ],
      "metadata": {
        "colab": {
          "base_uri": "https://localhost:8080/"
        },
        "id": "TDbRc2PsbG6b",
        "outputId": "0f91d337-2c4f-4b79-d1de-51d2a86c8106"
      },
      "execution_count": null,
      "outputs": [
        {
          "output_type": "execute_result",
          "data": {
            "text/plain": [
              "True"
            ]
          },
          "metadata": {},
          "execution_count": 16
        }
      ]
    },
    {
      "cell_type": "markdown",
      "source": [
        "### If/Else/Elif\n",
        "\n",
        "if, else, and elif are ways to add a condition check to your code execution. <br> The following code says **if 3 is greater than 4, print 1 and terminate the if/elif/else block**. Or else, if **(elif) 3 is greater than 3, print 2 and terminate the block**. Or **else**, if none of the other conditions were true **print 3**."
      ],
      "metadata": {
        "id": "H76uK4gM3nO-"
      }
    },
    {
      "cell_type": "markdown",
      "source": [],
      "metadata": {
        "id": "X6H2c55Y5J-S"
      }
    },
    {
      "cell_type": "code",
      "source": [
        "if 3 > 4:\n",
        "  print(1)\n",
        "elif 3 > 3:\n",
        "  print(2)\n",
        "else:\n",
        "  print(3)"
      ],
      "metadata": {
        "colab": {
          "base_uri": "https://localhost:8080/"
        },
        "id": "vtLZ3Zsb5KmV",
        "outputId": "081a0eb9-1b43-49a4-bed1-d5f7ab5be9f8"
      },
      "execution_count": null,
      "outputs": [
        {
          "output_type": "stream",
          "name": "stdout",
          "text": [
            "3\n"
          ]
        }
      ]
    },
    {
      "cell_type": "markdown",
      "source": [
        "Let's tie together some ideas we've looked at so far. We're going to **loop <br>**\n",
        "**through all of the items in our array.** For each item, check whether the <br> remainder of that item divided by 2 is equal to 0 (**check if the number is <br>**\n",
        "**even**). **If it IS even, print that item. Otherwise print that it is odd.**"
      ],
      "metadata": {
        "id": "MnHdpnR85ZMH"
      }
    },
    {
      "cell_type": "code",
      "source": [
        "# Reminder of what arr contains\n",
        "print(arr)"
      ],
      "metadata": {
        "colab": {
          "base_uri": "https://localhost:8080/"
        },
        "id": "AEtE4hGUiptL",
        "outputId": "b38acae3-8288-4697-b913-e3cd413dbff1"
      },
      "execution_count": null,
      "outputs": [
        {
          "output_type": "stream",
          "name": "stdout",
          "text": [
            "[1, 2, 3, 4, 5, 6]\n"
          ]
        }
      ]
    },
    {
      "cell_type": "code",
      "source": [
        "for a in arr:\n",
        "  if a % 2 == 0: # check if even\n",
        "    print(a)\n",
        "  else:\n",
        "    print(\"odd\")"
      ],
      "metadata": {
        "colab": {
          "base_uri": "https://localhost:8080/"
        },
        "id": "Eod2PSGwcOcc",
        "outputId": "8f9cade6-2d0f-46d6-80b7-f2297253f6cf"
      },
      "execution_count": null,
      "outputs": [
        {
          "output_type": "stream",
          "name": "stdout",
          "text": [
            "odd\n",
            "2\n",
            "odd\n",
            "4\n",
            "odd\n",
            "6\n"
          ]
        }
      ]
    },
    {
      "cell_type": "code",
      "source": [
        "# if else syntactic sugar\n",
        "\"yay!\" if 0 > 1 else \"nay!\"  # => \"nay!\""
      ],
      "metadata": {
        "colab": {
          "base_uri": "https://localhost:8080/",
          "height": 35
        },
        "id": "OqnvMvLLcYdH",
        "outputId": "b5d87f4a-9ea4-4d40-bfbe-2c8aa486f713"
      },
      "execution_count": null,
      "outputs": [
        {
          "output_type": "execute_result",
          "data": {
            "text/plain": [
              "'nay!'"
            ],
            "application/vnd.google.colaboratory.intrinsic+json": {
              "type": "string"
            }
          },
          "metadata": {},
          "execution_count": 42
        }
      ]
    },
    {
      "cell_type": "markdown",
      "source": [
        "## Functions\n",
        "\n",
        "Functions work just like they do in algebra. The function **f(x) operates on x** <br>\n",
        "and applies some kind of operation. We can also have a function which depends on <br> more\n",
        "than one value, such as **f(x, y) has both x and y as arguments**. We can also **assign the** <br>\n",
        "**result of a function to a variable** or other appropriate data structure. In <br>\n",
        "python this is done **using \"return\"**.\n",
        "\n",
        "Below **we're creating a function called add** which **requires two inputs or** <br>\n",
        "**arguments** which it will assign to variables called **x and y**. Here we see one <br>\n",
        "more way to do text formatting without using placeholders."
      ],
      "metadata": {
        "id": "U9gEh0pXdmd8"
      }
    },
    {
      "cell_type": "code",
      "source": [
        "def add(x, y):\n",
        "    print(\"x is {} and y is {}\".format(x, y))\n",
        "    return x + y  # Return values with a return statement"
      ],
      "metadata": {
        "id": "aI3SjvGPdkSs"
      },
      "execution_count": null,
      "outputs": []
    },
    {
      "cell_type": "code",
      "source": [
        "add(2,3)"
      ],
      "metadata": {
        "colab": {
          "base_uri": "https://localhost:8080/"
        },
        "id": "SAdMoT9sdlOg",
        "outputId": "978f3438-01dd-49c4-9866-71d3349b1c10"
      },
      "execution_count": null,
      "outputs": [
        {
          "output_type": "stream",
          "name": "stdout",
          "text": [
            "x is 2 and y is 3\n"
          ]
        },
        {
          "output_type": "execute_result",
          "data": {
            "text/plain": [
              "5"
            ]
          },
          "metadata": {},
          "execution_count": 44
        }
      ]
    },
    {
      "cell_type": "markdown",
      "source": [
        "When you create a variable inside of a function, it won't automatically affect <br>\n",
        "variables of the same name created outside of that function."
      ],
      "metadata": {
        "id": "25lQf7Uw-H2O"
      }
    },
    {
      "cell_type": "code",
      "source": [
        "# Function Scope\n",
        "x = 5\n",
        "\n",
        "def set_x(num):\n",
        "    # Local var x not the same as global variable x\n",
        "    x = num    # => 42\n",
        "    print(x)   # => 42\n",
        "\n",
        "set_x(42)\n",
        "print(x)"
      ],
      "metadata": {
        "colab": {
          "base_uri": "https://localhost:8080/"
        },
        "id": "wkqesurnd8ul",
        "outputId": "4873d3b4-99d8-4071-c064-49b7f01f6e13"
      },
      "execution_count": null,
      "outputs": [
        {
          "output_type": "stream",
          "name": "stdout",
          "text": [
            "42\n",
            "5\n"
          ]
        }
      ]
    },
    {
      "cell_type": "markdown",
      "source": [
        "However, variables created outside of a function can be used within that <br>\n",
        "function. For example:"
      ],
      "metadata": {
        "id": "HGjYjz8Q-m8Y"
      }
    },
    {
      "cell_type": "code",
      "source": [
        "x = 5\n",
        "\n",
        "def print_x(num):\n",
        "  print(x)\n",
        "\n",
        "print_x(7)"
      ],
      "metadata": {
        "colab": {
          "base_uri": "https://localhost:8080/"
        },
        "id": "iiTu8zXf-xxN",
        "outputId": "85cac0fe-704b-4c7e-ffaa-bcae68f06c7c"
      },
      "execution_count": null,
      "outputs": [
        {
          "output_type": "stream",
          "name": "stdout",
          "text": [
            "5\n"
          ]
        }
      ]
    },
    {
      "cell_type": "markdown",
      "source": [
        "# Importing Modules/Packages\n",
        "\n",
        "A major reason why python is so popular is the incredible number of **packages** <br>\n",
        "or **collections of code** written by other people which you can easily install and <br>\n",
        "download. Some of these are installed by default in any python and many more <br>\n",
        "are installed automatically by google colab meaning **we'll rarely have to** <br>\n",
        "**install new packages.** You can **load the the functions from a package into** <br>\n",
        "**colab using the \"import\" function.**"
      ],
      "metadata": {
        "id": "mZssFRjdezQq"
      }
    },
    {
      "cell_type": "code",
      "source": [
        "# You can import modules\n",
        "import math"
      ],
      "metadata": {
        "id": "GLeWiDgYeDQ5"
      },
      "execution_count": null,
      "outputs": []
    },
    {
      "cell_type": "markdown",
      "source": [
        "To use functions from that package you use a path format that goes like <br>\n",
        "**package.function()**. Below we're using the square root function from the math <br>\n",
        "package."
      ],
      "metadata": {
        "id": "vaIagQqYAMfJ"
      }
    },
    {
      "cell_type": "code",
      "source": [
        "print(math.sqrt(16))  # => 4.0"
      ],
      "metadata": {
        "colab": {
          "base_uri": "https://localhost:8080/"
        },
        "id": "RTm8hEIXe0hm",
        "outputId": "8c23b068-80ae-49f8-9816-e9041d44a8a5"
      },
      "execution_count": null,
      "outputs": [
        {
          "output_type": "stream",
          "name": "stdout",
          "text": [
            "4.0\n"
          ]
        }
      ]
    },
    {
      "cell_type": "markdown",
      "source": [
        "You don't need to import a whole package every time. When possible, try to <br>\n",
        "import only the things you need."
      ],
      "metadata": {
        "id": "GAUdmumsBG33"
      }
    },
    {
      "cell_type": "code",
      "source": [
        "# You can get specific functions from a module\n",
        "from math import ceil, floor\n",
        "# --> no need to write math.ceil\n",
        "print(ceil(3.7))   # => 4.0\n",
        "print(floor(3.7))  # => 3.0"
      ],
      "metadata": {
        "colab": {
          "base_uri": "https://localhost:8080/"
        },
        "id": "F3D8FOSRe2qu",
        "outputId": "abcbb5b7-b6ad-4d31-d52e-dce6e64490f4"
      },
      "execution_count": null,
      "outputs": [
        {
          "output_type": "stream",
          "name": "stdout",
          "text": [
            "4\n",
            "3\n"
          ]
        }
      ]
    },
    {
      "cell_type": "markdown",
      "source": [
        "You can also import functions and packages with specific names"
      ],
      "metadata": {
        "id": "9pyrXUo2BWJJ"
      }
    },
    {
      "cell_type": "code",
      "source": [
        "import math as m\n",
        "\n",
        "print(m.sqrt(16))"
      ],
      "metadata": {
        "colab": {
          "base_uri": "https://localhost:8080/"
        },
        "id": "xwpmtZdQBdFk",
        "outputId": "8938d2ae-cc53-448b-b186-1f3ae29bc9c8"
      },
      "execution_count": null,
      "outputs": [
        {
          "output_type": "stream",
          "name": "stdout",
          "text": [
            "4.0\n"
          ]
        }
      ]
    },
    {
      "cell_type": "code",
      "source": [
        "from math import ceil as ce\n",
        "\n",
        "print(ce(3.7))"
      ],
      "metadata": {
        "colab": {
          "base_uri": "https://localhost:8080/"
        },
        "id": "UJemHMioBlqB",
        "outputId": "a436331e-fae8-4b67-a7cf-353bb5bffdf3"
      },
      "execution_count": null,
      "outputs": [
        {
          "output_type": "stream",
          "name": "stdout",
          "text": [
            "4\n"
          ]
        }
      ]
    }
  ]
}