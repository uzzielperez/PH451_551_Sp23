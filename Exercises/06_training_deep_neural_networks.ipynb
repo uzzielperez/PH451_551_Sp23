{
  "cells": [
    {
      "cell_type": "markdown",
      "metadata": {
        "id": "view-in-github",
        "colab_type": "text"
      },
      "source": [
        "<a href=\"https://colab.research.google.com/github/UAPH451551/PH451_551_Sp23/blob/main/Exercises/06_training_deep_neural_networks.ipynb\" target=\"_parent\"><img src=\"https://colab.research.google.com/assets/colab-badge.svg\" alt=\"Open In Colab\"/></a>"
      ]
    },
    {
      "cell_type": "markdown",
      "metadata": {
        "id": "BuiK1GbXVeWQ"
      },
      "source": [
        "# Training Deep Neural Networks"
      ]
    },
    {
      "cell_type": "code",
      "execution_count": null,
      "metadata": {
        "id": "yap6SEWNVeWT"
      },
      "outputs": [],
      "source": [
        "group_name = \"\"\n",
        "names = [\"a\", \"b\", \"c\"]"
      ]
    },
    {
      "cell_type": "markdown",
      "metadata": {
        "id": "Vum1ecMSVeWU"
      },
      "source": [
        "Due date: 2023-03-20\n",
        "\n",
        "File name convention: For group 42 and memebers Richard Stallman and Linus <br> Torvalds it would be <br>\n",
        "\"06_Exercise6_Goup42_Stallman_Torvalds.pdf\".\n",
        "\n",
        "Submission via blackboard (UA).\n",
        "\n",
        "Feel free to answer free text questions in text cells using markdown and <br>\n",
        "possibly $\\LaTeX{}$ if you want to.\n",
        "\n",
        "**You don't have to understand every line of code here and it is not intended** <br> **for you to try to understand every line of code.**<br>\n",
        "**Big blocks of code are usually meant to just be clicked through.**"
      ]
    },
    {
      "cell_type": "markdown",
      "metadata": {
        "id": "PdHpNoudVeWU"
      },
      "source": [
        "# Setup"
      ]
    },
    {
      "cell_type": "code",
      "execution_count": null,
      "metadata": {
        "id": "gzQlcbcGVeWV"
      },
      "outputs": [],
      "source": [
        "# Python ≥3.5 is required\n",
        "import sys\n",
        "assert sys.version_info >= (3, 5)\n",
        "\n",
        "# Scikit-Learn ≥0.20 is required\n",
        "import sklearn\n",
        "assert sklearn.__version__ >= \"0.20\"\n",
        "\n",
        "# TensorFlow ≥2.0 is required\n",
        "import tensorflow as tf\n",
        "from tensorflow import keras\n",
        "assert tf.__version__ >= \"2.0\"\n",
        "\n",
        "%load_ext tensorboard\n",
        "\n",
        "# Common imports\n",
        "import numpy as np\n",
        "import os\n",
        "\n",
        "# to make this notebook's output stable across runs\n",
        "np.random.seed(42)\n",
        "\n",
        "# To plot pretty figures\n",
        "%matplotlib inline\n",
        "import matplotlib as mpl\n",
        "import matplotlib.pyplot as plt\n",
        "mpl.rc('axes', labelsize=14)\n",
        "mpl.rc('xtick', labelsize=12)\n",
        "mpl.rc('ytick', labelsize=12)"
      ]
    },
    {
      "cell_type": "markdown",
      "metadata": {
        "id": "vdfX0dKQVeWV"
      },
      "source": [
        "# Vanishing/Exploding Gradients Problem\n",
        "\n",
        "Just like with SGD for linear regression, the fundamental procedure in simple <br>\n",
        "neural networks is to **update model weights and biases** by taking some form of <br>\n",
        "**partial derivative of a loss function** with respect to our weights and biases <br>\n",
        "and then **stepping our weights** in the direction of the negative partial <br>\n",
        "derivative. \n",
        "\n",
        "By **chain rule**, that means that we'll also need to have some kind of <br>\n",
        "**partial derivative of our activation function** with respect to our weights and <br>\n",
        "biases. If the **slope of an activation function** has a tendency to **explode** or <br>\n",
        "**vanish**, then our gradient might also explode or vanish which means we end up <br>\n",
        "taking **steps in our weights** that are **too large** or **too small**."
      ]
    },
    {
      "cell_type": "markdown",
      "metadata": {
        "id": "NyCN-ihMVeWW"
      },
      "source": [
        "### TASK 1: Sigmoid, Relu, Leaky Relu"
      ]
    },
    {
      "cell_type": "code",
      "execution_count": null,
      "metadata": {
        "id": "dyKgfaBkVeWW"
      },
      "outputs": [],
      "source": [
        "def logit(z):\n",
        "    return 1 / (1 + np.exp(-z))"
      ]
    },
    {
      "cell_type": "code",
      "execution_count": null,
      "metadata": {
        "id": "xsIoTdwPVeWW"
      },
      "outputs": [],
      "source": [
        "z = np.linspace(-5, 5, 200)\n",
        "\n",
        "plt.plot([-5, 5], [0, 0], 'k-')\n",
        "plt.plot([-5, 5], [1, 1], 'k--')\n",
        "plt.plot([0, 0], [-0.2, 1.2], 'k-')\n",
        "plt.plot([-5, 5], [-3/4, 7/4], 'g--')\n",
        "plt.plot(z, logit(z), \"b-\", linewidth=2)\n",
        "props = dict(facecolor='black', shrink=0.1)\n",
        "plt.annotate('', xytext=(3.5, 0.7), xy=(5, 1), arrowprops=props, fontsize=14, ha=\"center\")\n",
        "plt.annotate('', xytext=(-3.5, 0.3), xy=(-5, 0), arrowprops=props, fontsize=14, ha=\"center\")\n",
        "plt.annotate('', xytext=(2, 0.2), xy=(0, 0.5), arrowprops=props, fontsize=14, ha=\"center\")\n",
        "plt.grid(True)\n",
        "plt.title(\"Sigmoid activation function\", fontsize=14)\n",
        "plt.axis([-5, 5, -0.2, 1.2])\n",
        "\n",
        "plt.show()"
      ]
    },
    {
      "cell_type": "markdown",
      "metadata": {
        "id": "BPSnzzKbVeWX"
      },
      "source": [
        "**Task 1 a)** Describe the sigmoid activation function in the three indicated <br>\n",
        "regions in the above plot."
      ]
    },
    {
      "cell_type": "markdown",
      "metadata": {
        "id": "nsnymzLuLvm2"
      },
      "source": [
        "↓↓↓↓↓↓↓↓↓↓↓↓↓↓↓↓↓↓↓↓↓↓↓↓↓↓↓↓↓↓↓ your answer goes below"
      ]
    },
    {
      "cell_type": "markdown",
      "metadata": {
        "id": "T052eRDZVeWY"
      },
      "source": [
        "Task 1 a) answer: "
      ]
    },
    {
      "cell_type": "markdown",
      "metadata": {
        "id": "i0N2ZDw4VeWY"
      },
      "source": [
        "↑↑↑↑↑↑↑↑↑↑↑↑↑↑↑↑↑↑↑↑↑↑↑↑↑↑↑↑↑↑↑ your answer goes above"
      ]
    },
    {
      "cell_type": "markdown",
      "metadata": {
        "id": "QHJ6UnjCVeWY"
      },
      "source": [
        "### Leaky ReLU"
      ]
    },
    {
      "cell_type": "markdown",
      "metadata": {
        "id": "ts2lixZlVeWY"
      },
      "source": [
        "**Task 1 b)** Write the [leaky relu](https://en.wikipedia.org/wiki/Rectifier_(neural_networks)#Leaky_ReLU) function as `def leaky_relu():`. <br>\n",
        "It should take `z` as argument and also another optional argument `alpha` with <br> default value 0.01.<br>\n",
        "The leaky relu function is defined to be `alpha*z` for z<0 and `z` for z>0.\n",
        "\n",
        "(alterntively you can think about using `np.maximum` to make the distinction, <br> assuming alpha>0)"
      ]
    },
    {
      "cell_type": "markdown",
      "metadata": {
        "id": "uKQvZ-g7VeWZ"
      },
      "source": [
        "↓↓↓↓↓↓↓↓↓↓↓↓↓↓↓↓↓↓↓↓↓↓↓↓↓↓↓↓↓↓↓ your code goes below"
      ]
    },
    {
      "cell_type": "code",
      "execution_count": null,
      "metadata": {
        "id": "rWjs1EbxVeWZ"
      },
      "outputs": [],
      "source": []
    },
    {
      "cell_type": "markdown",
      "metadata": {
        "id": "8kI_1uaQVeWZ"
      },
      "source": [
        "↑↑↑↑↑↑↑↑↑↑↑↑↑↑↑↑↑↑↑↑↑↑↑↑↑↑↑↑↑↑↑ your code goes above"
      ]
    },
    {
      "cell_type": "code",
      "execution_count": null,
      "metadata": {
        "id": "Cfbe5XLRVeWZ"
      },
      "outputs": [],
      "source": [
        "plt.plot(z, leaky_relu(z, 0.05), \"b-\", linewidth=2)\n",
        "plt.plot([-5, 5], [0, 0], 'k-')\n",
        "plt.plot([0, 0], [-0.5, 4.2], 'k-')\n",
        "plt.grid(True)\n",
        "props = dict(facecolor='black', shrink=0.1)\n",
        "plt.annotate('', xytext=(-3.5, 0.5), xy=(-5, -0.2), arrowprops=props, fontsize=14, ha=\"center\")\n",
        "plt.title(\"Leaky ReLU activation function\", fontsize=14)\n",
        "plt.axis([-5, 5, -0.5, 4.2])\n",
        "\n",
        "plt.show()"
      ]
    },
    {
      "cell_type": "markdown",
      "metadata": {
        "id": "jwjJDDzBVeWa"
      },
      "source": [
        "**Task 1c)** Describe the difference between relu and leaky relu?\n",
        "Also explain why one might want to use leaky relu."
      ]
    },
    {
      "cell_type": "markdown",
      "metadata": {
        "id": "1Ts4OTJfVeWa"
      },
      "source": [
        "↓↓↓↓↓↓↓↓↓↓↓↓↓↓↓↓↓↓↓↓↓↓↓↓↓↓↓↓↓↓↓ your answer goes below"
      ]
    },
    {
      "cell_type": "markdown",
      "metadata": {
        "id": "bIeB0L14VeWa"
      },
      "source": [
        "Task 1c) answer:"
      ]
    },
    {
      "cell_type": "markdown",
      "metadata": {
        "id": "4en01z7DVeWa"
      },
      "source": [
        "↑↑↑↑↑↑↑↑↑↑↑↑↑↑↑↑↑↑↑↑↑↑↑↑↑↑↑↑↑↑↑ your answer goes above"
      ]
    },
    {
      "cell_type": "markdown",
      "metadata": {
        "id": "4QWkxwBxVeWa"
      },
      "source": [
        "##### Let's train a neural network on Fashion MNIST using the Leaky ReLU:"
      ]
    },
    {
      "cell_type": "code",
      "execution_count": null,
      "metadata": {
        "id": "2zBvPyXLVeWb"
      },
      "outputs": [],
      "source": [
        "# load fashion MNIST + train_test split\n",
        "(X_train_full, y_train_full), (X_test, y_test) = keras.datasets.fashion_mnist.load_data()\n",
        "X_train_full = X_train_full / 255.0\n",
        "X_test = X_test / 255.0\n",
        "X_valid, X_train = X_train_full[:5000], X_train_full[5000:]\n",
        "y_valid, y_train = y_train_full[:5000], y_train_full[5000:]"
      ]
    },
    {
      "cell_type": "code",
      "execution_count": null,
      "metadata": {
        "id": "BZ4zQYliVeWb"
      },
      "outputs": [],
      "source": [
        "tf.random.set_seed(42)\n",
        "np.random.seed(42)\n",
        "\n",
        "model = keras.models.Sequential([\n",
        "    keras.layers.Flatten(input_shape=[28, 28]),\n",
        "    keras.layers.Dense(300, kernel_initializer=\"he_normal\"),\n",
        "    keras.layers.LeakyReLU(),\n",
        "    keras.layers.Dense(100, kernel_initializer=\"he_normal\"),\n",
        "    keras.layers.LeakyReLU(),\n",
        "    keras.layers.Dense(10, activation=\"softmax\")\n",
        "])"
      ]
    },
    {
      "cell_type": "code",
      "execution_count": null,
      "metadata": {
        "id": "CBypCohoVeWb"
      },
      "outputs": [],
      "source": [
        "model.compile(loss=\"sparse_categorical_crossentropy\",\n",
        "              optimizer=keras.optimizers.SGD(learning_rate=1e-3),\n",
        "              metrics=[\"accuracy\"])"
      ]
    },
    {
      "cell_type": "code",
      "execution_count": null,
      "metadata": {
        "scrolled": true,
        "id": "I6BRfaxwVeWb"
      },
      "outputs": [],
      "source": [
        "history = model.fit(X_train, y_train, epochs=10,\n",
        "                    validation_data=(X_valid, y_valid))"
      ]
    },
    {
      "cell_type": "markdown",
      "metadata": {
        "id": "dhvk8AW7VeWc"
      },
      "source": [
        "### TASK 2: ELU\n",
        "**Task 2 a)** Describe the [ELU activation](https://paperswithcode.com/method/elu) function and compare to LeakyRelu. <br>\n",
        "The definition is described in Chapter 11 or alternatively [here](https://paperswithcode.com/method/elu).   "
      ]
    },
    {
      "cell_type": "markdown",
      "metadata": {
        "id": "b8Bl9-llVeWc"
      },
      "source": [
        "↓↓↓↓↓↓↓↓↓↓↓↓↓↓↓↓↓↓↓↓↓↓↓↓↓↓↓↓↓↓↓ your answer goes below"
      ]
    },
    {
      "cell_type": "markdown",
      "metadata": {
        "id": "OnONz5vdVeWc"
      },
      "source": [
        "Task 2 a) answer:"
      ]
    },
    {
      "cell_type": "markdown",
      "metadata": {
        "id": "9v0A0WekVeWc"
      },
      "source": [
        "↑↑↑↑↑↑↑↑↑↑↑↑↑↑↑↑↑↑↑↑↑↑↑↑↑↑↑↑↑↑↑ your answer goes above"
      ]
    },
    {
      "cell_type": "markdown",
      "metadata": {
        "id": "FZAMtpWaVeWc"
      },
      "source": [
        "**Task 2 b)** Similar to `leaky_relu` above, write the function `def elu():` as <br> a function of z with optional argument `alpha=1` (meaning that the default <br> value is 1)."
      ]
    },
    {
      "cell_type": "markdown",
      "metadata": {
        "id": "cifsW9jUVeWc"
      },
      "source": [
        "↓↓↓↓↓↓↓↓↓↓↓↓↓↓↓↓↓↓↓↓↓↓↓↓↓↓↓↓↓↓↓ your code goes below"
      ]
    },
    {
      "cell_type": "code",
      "execution_count": null,
      "metadata": {
        "id": "7iGUTv-dVeWc"
      },
      "outputs": [],
      "source": []
    },
    {
      "cell_type": "markdown",
      "metadata": {
        "id": "jLxWALLoVeWc"
      },
      "source": [
        "↑↑↑↑↑↑↑↑↑↑↑↑↑↑↑↑↑↑↑↑↑↑↑↑↑↑↑↑↑↑↑ your code goes above"
      ]
    },
    {
      "cell_type": "code",
      "execution_count": null,
      "metadata": {
        "id": "bPN7OA3YVeWd"
      },
      "outputs": [],
      "source": [
        "plt.plot(z, elu(z), \"b-\", linewidth=2)\n",
        "plt.plot([-5, 5], [0, 0], 'k-')\n",
        "plt.plot([-5, 5], [-1, -1], 'k--')\n",
        "plt.plot([0, 0], [-2.2, 3.2], 'k-')\n",
        "plt.grid(True)\n",
        "plt.title(r\"ELU activation function ($\\alpha=1$)\", fontsize=14)\n",
        "plt.annotate('', xytext=(-3.5, 0), xy=(-4, -1), arrowprops=props, fontsize=14, ha=\"center\")\n",
        "plt.axis([-5, 5, -2.2, 3.2])\n",
        "\n",
        "plt.show()"
      ]
    },
    {
      "cell_type": "code",
      "execution_count": null,
      "metadata": {
        "id": "K_zX1ZGRVeWd"
      },
      "outputs": [],
      "source": [
        "tf.random.set_seed(42)\n",
        "np.random.seed(42)"
      ]
    },
    {
      "cell_type": "markdown",
      "metadata": {
        "id": "vnCxOIWmVeWd"
      },
      "source": [
        "To use the elu activation function in TensorFlow you need to specify the <Br> activation function when building each layer (Check on <br> https://keras.io/api/layers/activations/ for some examples): <br>\n",
        "`activation='relu'`"
      ]
    },
    {
      "cell_type": "markdown",
      "metadata": {
        "id": "TLXw3RvHVeWd"
      },
      "source": [
        "**Task 2 c)** Using the same layer dimensions from the previous model <br> (LeakyRelu), train with ELU activation instead."
      ]
    },
    {
      "cell_type": "markdown",
      "metadata": {
        "id": "aFprgEuGVeWd"
      },
      "source": [
        "↓↓↓↓↓↓↓↓↓↓↓↓↓↓↓↓↓↓↓↓↓↓↓↓↓↓↓↓↓↓↓ your code goes below"
      ]
    },
    {
      "cell_type": "code",
      "execution_count": null,
      "metadata": {
        "id": "Cu4Vt8JHVeWd"
      },
      "outputs": [],
      "source": [
        "# model = ..."
      ]
    },
    {
      "cell_type": "markdown",
      "metadata": {
        "id": "wPVhUUhfVeWe"
      },
      "source": [
        "↑↑↑↑↑↑↑↑↑↑↑↑↑↑↑↑↑↑↑↑↑↑↑↑↑↑↑↑↑↑↑ your code goes above"
      ]
    },
    {
      "cell_type": "code",
      "execution_count": null,
      "metadata": {
        "id": "g2J3P6NvVeWe"
      },
      "outputs": [],
      "source": [
        "model.compile(loss=\"sparse_categorical_crossentropy\",\n",
        "              optimizer=keras.optimizers.SGD(learning_rate=1e-3),\n",
        "              metrics=[\"accuracy\"])"
      ]
    },
    {
      "cell_type": "code",
      "execution_count": null,
      "metadata": {
        "id": "jG3FKgWuVeWe"
      },
      "outputs": [],
      "source": [
        "history = model.fit(X_train, y_train, epochs=10,\n",
        "                    validation_data=(X_valid, y_valid))"
      ]
    },
    {
      "cell_type": "markdown",
      "metadata": {
        "id": "7Umd-Y5OVeWe"
      },
      "source": [
        "## Task 3: Batch Normalization\n",
        "**Task 3 a)** Build a NN with two hidden layers with 300 and 100 nodes. Use <br> \n",
        "RELU as activation function. Add [BatchNormalization](https://keras.io/api/layers/normalization_layers/batch_normalization/) layers before each <br> \n",
        "dense layer (check the definition in Chapter 11)   "
      ]
    },
    {
      "cell_type": "markdown",
      "metadata": {
        "id": "fwg8HPGaVeWe"
      },
      "source": [
        "↓↓↓↓↓↓↓↓↓↓↓↓↓↓↓↓↓↓↓↓↓↓↓↓↓↓↓↓↓↓↓ your code goes below"
      ]
    },
    {
      "cell_type": "code",
      "execution_count": null,
      "metadata": {
        "id": "nG3v0q-TVeWe"
      },
      "outputs": [],
      "source": [
        "model = keras.models.Sequential([\n",
        "    keras.layers.Flatten(input_shape=[28, 28]),\n",
        "    # ↓↓↓↓↓↓↓↓↓↓↓↓↓↓↓↓↓↓↓↓↓↓↓↓↓↓↓↓↓↓↓ \n",
        "\n",
        "    # ↑↑↑↑↑↑↑↑↑↑↑↑↑↑↑↑↑↑↑↑↑↑↑↑↑↑↑↑↑↑↑ \n",
        "    keras.layers.Dense(10, activation=\"softmax\")\n",
        "])"
      ]
    },
    {
      "cell_type": "markdown",
      "metadata": {
        "id": "pIdD7ftLVeWe"
      },
      "source": [
        "↑↑↑↑↑↑↑↑↑↑↑↑↑↑↑↑↑↑↑↑↑↑↑↑↑↑↑↑↑↑↑ your code goes above"
      ]
    },
    {
      "cell_type": "code",
      "execution_count": null,
      "metadata": {
        "id": "vGwSOuEYVeWf"
      },
      "outputs": [],
      "source": [
        "model.compile(loss=\"sparse_categorical_crossentropy\",\n",
        "              optimizer=keras.optimizers.SGD(learning_rate=1e-3),\n",
        "              metrics=[\"accuracy\"])"
      ]
    },
    {
      "cell_type": "code",
      "execution_count": null,
      "metadata": {
        "id": "kM2u6jcUVeWf"
      },
      "outputs": [],
      "source": [
        "keras.utils.plot_model(model, show_shapes=True)"
      ]
    },
    {
      "cell_type": "code",
      "execution_count": null,
      "metadata": {
        "id": "2ePFO-PSVeWf"
      },
      "outputs": [],
      "source": [
        "history = model.fit(X_train, y_train, epochs=25,\n",
        "                    validation_data=(X_valid, y_valid))"
      ]
    },
    {
      "cell_type": "markdown",
      "metadata": {
        "id": "FsRzlilQVeWf"
      },
      "source": [
        "**Task 3 b)** Explain what batch normalization does and discuss the results of above training."
      ]
    },
    {
      "cell_type": "markdown",
      "metadata": {
        "id": "7zT7x27pVeWf"
      },
      "source": [
        "↓↓↓↓↓↓↓↓↓↓↓↓↓↓↓↓↓↓↓↓↓↓↓↓↓↓↓↓↓↓↓ your answer goes below"
      ]
    },
    {
      "cell_type": "markdown",
      "metadata": {
        "id": "gJ-s9RlzVeWf"
      },
      "source": [
        "Task 3b) answer:"
      ]
    },
    {
      "cell_type": "markdown",
      "metadata": {
        "id": "AIPTBuROVeWf"
      },
      "source": [
        "↑↑↑↑↑↑↑↑↑↑↑↑↑↑↑↑↑↑↑↑↑↑↑↑↑↑↑↑↑↑↑ your answer goes above"
      ]
    },
    {
      "cell_type": "markdown",
      "metadata": {
        "id": "ljBkMeqGVeWg"
      },
      "source": [
        "## Task 4: Reusing a Keras model"
      ]
    },
    {
      "cell_type": "markdown",
      "metadata": {
        "id": "9rbAMSSiVeWg"
      },
      "source": [
        "Let's split the fashion MNIST training set in two: <br>\n",
        "* `X_train_A`: all images of all items except for sandals and shirts (classes 5 and 6).<br>\n",
        "* `X_train_B`: a much smaller training set of just the first 200 images of sandals or shirts.\n",
        "\n",
        "The validation set and the test set are also split this way, but without <br>\n",
        "restricting the number of images.\n",
        "\n",
        "**We will train a model on set A (classification task with 8 classes), and try to** <br> \n",
        "**reuse it to tackle set B (binary classification).** We hope to transfer a little <br> \n",
        "bit of knowledge from task A to task B, since classes in set A (sneakers, <br>\n",
        "ankle boots, coats, t-shirts, etc.) are somewhat similar to classes in set B <br> \n",
        "(sandals and shirts). However, **since we are using `Dense` layers, only patterns** <br> \n",
        "**that occur at the same location can be reused** (in contrast, **convolutional <br> layers will transfer much better**, since learned patterns can be detected <br>\n",
        "anywhere on the image, as we will see in the CNN chapter)."
      ]
    },
    {
      "cell_type": "code",
      "execution_count": null,
      "metadata": {
        "id": "9PxxBOgTVeWg"
      },
      "outputs": [],
      "source": [
        "def split_dataset(X, y):\n",
        "    y_5_or_6 = (y == 5) | (y == 6) # sandals or shirts\n",
        "    y_A = y[~y_5_or_6]\n",
        "    y_A[y_A > 6] -= 2 # class indices 7, 8, 9 should be moved to 5, 6, 7\n",
        "    y_B = (y[y_5_or_6] == 6).astype(np.float32) # binary classification task: is it a shirt (class 6)?\n",
        "    return ((X[~y_5_or_6], y_A),\n",
        "            (X[y_5_or_6], y_B))\n",
        "\n",
        "(X_train_A, y_train_A), (X_train_B, y_train_B) = split_dataset(X_train, y_train)\n",
        "(X_valid_A, y_valid_A), (X_valid_B, y_valid_B) = split_dataset(X_valid, y_valid)\n",
        "(X_test_A, y_test_A), (X_test_B, y_test_B) = split_dataset(X_test, y_test)\n",
        "X_train_B = X_train_B[:200]\n",
        "y_train_B = y_train_B[:200]"
      ]
    },
    {
      "cell_type": "code",
      "execution_count": null,
      "metadata": {
        "id": "d7mQaRIwVeWg"
      },
      "outputs": [],
      "source": [
        "tf.random.set_seed(42)\n",
        "np.random.seed(42)"
      ]
    },
    {
      "cell_type": "code",
      "execution_count": null,
      "metadata": {
        "id": "Jxnsn87ZVeWg"
      },
      "outputs": [],
      "source": [
        "model_A = keras.models.Sequential()\n",
        "model_A.add(keras.layers.Flatten(input_shape=[28, 28]))\n",
        "for n_hidden in (300, 100, 50, 50, 50):\n",
        "    model_A.add(keras.layers.Dense(n_hidden, activation=\"selu\"))\n",
        "model_A.add(keras.layers.Dense(8, activation=\"softmax\"))"
      ]
    },
    {
      "cell_type": "code",
      "execution_count": null,
      "metadata": {
        "id": "jDhQHChWVeWh"
      },
      "outputs": [],
      "source": [
        "model_A.compile(loss=\"sparse_categorical_crossentropy\",\n",
        "                optimizer=keras.optimizers.SGD(lr=1e-3),\n",
        "                metrics=[\"accuracy\"])"
      ]
    },
    {
      "cell_type": "code",
      "execution_count": null,
      "metadata": {
        "id": "U43bIhDQVeWh"
      },
      "outputs": [],
      "source": [
        "history = model_A.fit(X_train_A, y_train_A, epochs=20,\n",
        "                    validation_data=(X_valid_A, y_valid_A))"
      ]
    },
    {
      "cell_type": "code",
      "execution_count": null,
      "metadata": {
        "id": "JqBpiXkzVeWh"
      },
      "outputs": [],
      "source": [
        "model_B = keras.models.Sequential()\n",
        "model_B.add(keras.layers.Flatten(input_shape=[28, 28]))\n",
        "for n_hidden in (300, 100, 50, 50, 50):\n",
        "    model_B.add(keras.layers.Dense(n_hidden, activation=\"selu\"))\n",
        "model_B.add(keras.layers.Dense(1, activation=\"sigmoid\"))"
      ]
    },
    {
      "cell_type": "code",
      "execution_count": null,
      "metadata": {
        "id": "qHDGVhePVeWh"
      },
      "outputs": [],
      "source": [
        "model_B.compile(loss=\"binary_crossentropy\",\n",
        "                optimizer=keras.optimizers.SGD(learning_rate=1e-3),\n",
        "                metrics=[\"accuracy\"])"
      ]
    },
    {
      "cell_type": "code",
      "execution_count": null,
      "metadata": {
        "id": "owf1X4HRVeWh"
      },
      "outputs": [],
      "source": [
        "history = model_B.fit(X_train_B, y_train_B, epochs=20,\n",
        "                      validation_data=(X_valid_B, y_valid_B))"
      ]
    },
    {
      "cell_type": "code",
      "execution_count": null,
      "metadata": {
        "id": "Ib7b4_-GVeWi"
      },
      "outputs": [],
      "source": [
        "model_B_on_A = keras.models.Sequential(model_A.layers[:-1])\n",
        "model_B_on_A.add(keras.layers.Dense(1, activation=\"sigmoid\"))"
      ]
    },
    {
      "cell_type": "markdown",
      "metadata": {
        "id": "tJNpOrlFVeWi"
      },
      "source": [
        "Note that `model_B_on_A` and `model_A` actually share layers now, so **when we** <br> \n",
        "**train one, it will update both models**. If we want **to avoid that**, we need to <br> \n",
        "**build `model_B_on_A` on top of a clone of `model_A`**:"
      ]
    },
    {
      "cell_type": "code",
      "execution_count": null,
      "metadata": {
        "id": "w92mBnQyVeWi"
      },
      "outputs": [],
      "source": [
        "model_A_clone = keras.models.clone_model(model_A)\n",
        "model_A_clone.set_weights(model_A.get_weights())"
      ]
    },
    {
      "cell_type": "code",
      "execution_count": null,
      "metadata": {
        "id": "_u3lWiVpVeWi"
      },
      "outputs": [],
      "source": [
        "for layer in model_B_on_A.layers[:-1]:\n",
        "    layer.trainable = False\n",
        "\n",
        "model_B_on_A.compile(loss=\"binary_crossentropy\",\n",
        "                     optimizer=keras.optimizers.SGD(lr=1e-3),\n",
        "                     metrics=[\"accuracy\"])"
      ]
    },
    {
      "cell_type": "code",
      "execution_count": null,
      "metadata": {
        "id": "xtemagkpVeWi"
      },
      "outputs": [],
      "source": [
        "history = model_B_on_A.fit(X_train_B, y_train_B, epochs=4,\n",
        "                           validation_data=(X_valid_B, y_valid_B))\n",
        "\n",
        "for layer in model_B_on_A.layers[:-1]:\n",
        "    layer.trainable = True\n",
        "\n",
        "model_B_on_A.compile(loss=\"binary_crossentropy\",\n",
        "                     optimizer=keras.optimizers.SGD(lr=1e-3),\n",
        "                     metrics=[\"accuracy\"])\n",
        "history = model_B_on_A.fit(X_train_B, y_train_B, epochs=20,\n",
        "                           validation_data=(X_valid_B, y_valid_B))"
      ]
    },
    {
      "cell_type": "markdown",
      "metadata": {
        "id": "nh6BZtgAVeWi"
      },
      "source": [
        "Task 4:\n",
        "a) Evaluate the loss and accuracy of the two models `model_B` and <br> `model_B_on_A` on the sandals/shirts dataset. "
      ]
    },
    {
      "cell_type": "markdown",
      "metadata": {
        "id": "gEZrJp3sVeWi"
      },
      "source": [
        "↓↓↓↓↓↓↓↓↓↓↓↓↓↓↓↓↓↓↓↓↓↓↓↓↓↓↓↓↓↓↓ your code goes below"
      ]
    },
    {
      "cell_type": "code",
      "execution_count": null,
      "metadata": {
        "id": "PXX6Z4YzVeWj"
      },
      "outputs": [],
      "source": []
    },
    {
      "cell_type": "markdown",
      "metadata": {
        "id": "jdPKnttrVeWj"
      },
      "source": [
        "↑↑↑↑↑↑↑↑↑↑↑↑↑↑↑↑↑↑↑↑↑↑↑↑↑↑↑↑↑↑↑ your code goes above"
      ]
    },
    {
      "cell_type": "markdown",
      "metadata": {
        "id": "Sv2-L0hNVeWj"
      },
      "source": [
        "b) In your own words, explain above \"transfer learning\". Did it help?"
      ]
    },
    {
      "cell_type": "markdown",
      "metadata": {
        "id": "ON0vOBS7VeWj"
      },
      "source": [
        "↓↓↓↓↓↓↓↓↓↓↓↓↓↓↓↓↓↓↓↓↓↓↓↓↓↓↓↓↓↓↓ your answer goes below"
      ]
    },
    {
      "cell_type": "markdown",
      "metadata": {
        "id": "BSu8C8TcVeWj"
      },
      "source": [
        "Task "
      ]
    },
    {
      "cell_type": "markdown",
      "metadata": {
        "id": "jkXd9M3lVeWj"
      },
      "source": [
        "↑↑↑↑↑↑↑↑↑↑↑↑↑↑↑↑↑↑↑↑↑↑↑↑↑↑↑↑↑↑↑ your answer goes above"
      ]
    },
    {
      "cell_type": "markdown",
      "metadata": {
        "id": "IWG9imbQVeWj"
      },
      "source": [
        "## Task 5: Learning Rate Scheduling\n",
        "\n",
        "Just like when we learned about SGD for linear regression, **decreasing the** <br>\n",
        "**learning rate over time can improve convergence**. One way to do this is to write <br>\n",
        "a schedule to decay the learning rate as a function of epoch number.\n",
        "\n",
        "Let's add a an exponential decay of the learning rate:"
      ]
    },
    {
      "cell_type": "markdown",
      "metadata": {
        "id": "4ZPLs_cVVeWj"
      },
      "source": [
        "We will use the following learning rate schedule (exponential):   \n",
        "$ lr = lr_0 \\cdot 0.1 ^ {epoch / 20}$"
      ]
    },
    {
      "cell_type": "code",
      "execution_count": null,
      "metadata": {
        "id": "drf86URsVeWk"
      },
      "outputs": [],
      "source": [
        "def exponential_decay(lr0, s):\n",
        "    def exponential_decay_fn(epoch):\n",
        "        return lr0 * 0.1**(epoch / s)\n",
        "    return exponential_decay_fn\n",
        "\n",
        "exponential_decay_fn = exponential_decay(lr0=0.01, s=20)\n",
        "\n",
        "lr_scheduler = keras.callbacks.LearningRateScheduler(exponential_decay_fn)"
      ]
    },
    {
      "cell_type": "markdown",
      "metadata": {
        "id": "vz8q_HR8VeWk"
      },
      "source": [
        "**Task 5:** \n",
        "- Build a NN with: two hidden layers with 300 and 100 nodes, add <br>\n",
        "BatchNormalization layers before the dense layers,\n",
        "- compile the model with `\"sparse_categorical_crossentropy\"` as `loss`, <br> `\"nadam\"` for the `optimizer` and `[\"accuracy\"]` as `metrics`, <br>\n",
        "- fit the model to `X_train` and `y_train` for 25 epochs. Use `(X_valid,` <br> `y_valid)` for the `validation_data` and add the exponential decay through <br>\n",
        "`callbacks=[lr_scheduler]`."
      ]
    },
    {
      "cell_type": "markdown",
      "metadata": {
        "id": "IULt_p0ZVeWk"
      },
      "source": [
        "↓↓↓↓↓↓↓↓↓↓↓↓↓↓↓↓↓↓↓↓↓↓↓↓↓↓↓↓↓↓↓ your code goes below"
      ]
    },
    {
      "cell_type": "code",
      "execution_count": null,
      "metadata": {
        "id": "9qEmrTh-VeWk"
      },
      "outputs": [],
      "source": []
    },
    {
      "cell_type": "code",
      "execution_count": null,
      "metadata": {
        "id": "RMAcLEAnVeWk"
      },
      "outputs": [],
      "source": []
    },
    {
      "cell_type": "markdown",
      "metadata": {
        "id": "c8t0NsaeVeWk"
      },
      "source": [
        "↑↑↑↑↑↑↑↑↑↑↑↑↑↑↑↑↑↑↑↑↑↑↑↑↑↑↑↑↑↑↑ your code goes above"
      ]
    },
    {
      "cell_type": "code",
      "execution_count": null,
      "metadata": {
        "id": "c0jcKWDaVeWk"
      },
      "outputs": [],
      "source": [
        "# note that the model is overfitting a lot. Might want to use dropout\n",
        "# also a CNN will perform much better as we will see next Hands-On\n",
        "print(\"train loss:\", model.evaluate(X_train, y_train))\n",
        "print(\"test loss:\", model.evaluate(X_test, y_test))"
      ]
    },
    {
      "cell_type": "code",
      "execution_count": null,
      "metadata": {
        "id": "QR8vzuI6VeWl"
      },
      "outputs": [],
      "source": [
        "# the learning rate is saved in the history under the key 'lr' \n",
        "history.history.keys()"
      ]
    },
    {
      "cell_type": "code",
      "execution_count": null,
      "metadata": {
        "id": "15Bzc2EPVeWl"
      },
      "outputs": [],
      "source": [
        "plt.plot(history.epoch, history.history[\"lr\"], \"o-\")\n",
        "plt.axis([0, n_epochs - 1, 0, 0.011])\n",
        "plt.xlabel(\"Epoch\")\n",
        "plt.ylabel(\"Learning Rate\")\n",
        "plt.title(\"Exponential Scheduling\", fontsize=14)\n",
        "plt.grid(True)\n",
        "plt.show()"
      ]
    },
    {
      "cell_type": "markdown",
      "metadata": {
        "id": "ssGWOMHMVeWl"
      },
      "source": [
        "**Note: If you want to use learning rate decay, it is probably better to use a <Br> Keras built in function like [ExponentialDecay](https://keras.io/api/optimizers/learning_rate_schedules/exponential_decay/) and not program it yourself.**"
      ]
    },
    {
      "cell_type": "markdown",
      "metadata": {
        "id": "mYgXFT8oVeWl"
      },
      "source": [
        "## Task 6: Performance Scheduling\n",
        "\n",
        "Because **Loss vs. weight spaces are generally not globally convex-up**, it's <br>\n",
        "likely that your model will get stuck in a **local minimum loss**. When that <br>\n",
        "happens, it can mean that your **learning rate is** so **low** that it's unable to push <br>\n",
        "your model weights outside of the local minimum region. We can try to **increase** <br>\n",
        "**the learning rate** in that case **to escape a local minimum**. This is like pushing <br>\n",
        "a ball further up the side of a valley in the hopes that it eventually rolls <br>\n",
        "over a cliff and down into a deeper valley when you get to the top."
      ]
    },
    {
      "cell_type": "markdown",
      "metadata": {
        "id": "R8qoflzSVeWl"
      },
      "source": [
        "For performance scheduling, use the `ReduceLROnPlateau` callback. For example, <br> \n",
        "if you pass the following callback to the `fit()` method, it will multiply the <br> \n",
        "learning rate by 0.5 whenever the best validation loss does not improve for two <br> \n",
        "consecutive epochs:\n",
        "\n",
        "`lr_scheduler = keras.callbacks.ReduceLROnPlateau(factor=0.5, patience=2)`"
      ]
    },
    {
      "cell_type": "markdown",
      "metadata": {
        "id": "js5KNR7VVeWm"
      },
      "source": [
        "**Task 6:**   \n",
        "a) Re-use (copy-paste) the NN from Task 5: two hidden layers with 300 and 100 <br> \n",
        "nodes and BatchNormalization layers before the dense layers. But, now use Adam <br> optimizer with a initial lr=0.01,   \n",
        "b) Compare the results with the previous one (Task 5), <br>\n",
        "c) Comment on the learning rate as a function of epochs using the plot given <br>below."
      ]
    },
    {
      "cell_type": "markdown",
      "metadata": {
        "id": "JiU1KpNSVeWm"
      },
      "source": [
        "↓↓↓↓↓↓↓↓↓↓↓↓↓↓↓↓↓↓↓↓↓↓↓↓↓↓↓↓↓↓↓ your code goes below"
      ]
    },
    {
      "cell_type": "code",
      "execution_count": null,
      "metadata": {
        "id": "-ndjYwyRVeWm"
      },
      "outputs": [],
      "source": []
    },
    {
      "cell_type": "code",
      "execution_count": null,
      "metadata": {
        "id": "zNA3UETXVeWm"
      },
      "outputs": [],
      "source": []
    },
    {
      "cell_type": "code",
      "execution_count": null,
      "metadata": {
        "id": "SbpIrSdGVeWm"
      },
      "outputs": [],
      "source": []
    },
    {
      "cell_type": "code",
      "execution_count": null,
      "metadata": {
        "id": "yfUNAspYVeWm"
      },
      "outputs": [],
      "source": [
        "plt.plot(history.epoch, history.history[\"lr\"], \"bo-\")\n",
        "plt.xlabel(\"Epoch\")\n",
        "plt.ylabel(\"Learning Rate\", color='b')\n",
        "plt.tick_params('y', colors='b')\n",
        "plt.gca().set_xlim(0, n_epochs - 1)\n",
        "plt.grid(True)\n",
        "\n",
        "ax2 = plt.gca().twinx()\n",
        "ax2.plot(history.epoch, history.history[\"val_loss\"], \"r^-\")\n",
        "ax2.set_ylabel('Validation Loss', color='r')\n",
        "ax2.tick_params('y', colors='r')\n",
        "\n",
        "plt.title(\"Reduce LR on Plateau\", fontsize=14)\n",
        "plt.show()"
      ]
    },
    {
      "cell_type": "markdown",
      "metadata": {
        "id": "c0AZiqX-VeWm"
      },
      "source": [
        "↑↑↑↑↑↑↑↑↑↑↑↑↑↑↑↑↑↑↑↑↑↑↑↑↑↑↑↑↑↑↑ your code goes above"
      ]
    },
    {
      "cell_type": "markdown",
      "source": [
        "↓↓↓↓↓↓↓↓↓↓↓↓↓↓↓↓↓↓↓↓↓↓↓↓↓↓↓↓↓↓↓ your answer goes below"
      ],
      "metadata": {
        "id": "KpAkO6_DcdG8"
      }
    },
    {
      "cell_type": "markdown",
      "metadata": {
        "id": "Y0IjQd10VeWm"
      },
      "source": [
        "Task 6 c) answer:"
      ]
    },
    {
      "cell_type": "markdown",
      "metadata": {
        "id": "0fJ2xV06cZ_Q"
      },
      "source": [
        "↑↑↑↑↑↑↑↑↑↑↑↑↑↑↑↑↑↑↑↑↑↑↑↑↑↑↑↑↑↑↑ your answer goes above"
      ]
    },
    {
      "cell_type": "markdown",
      "metadata": {
        "id": "9NPXtVJLVeWm"
      },
      "source": [
        "## Task 7 Avoiding Overfitting Through Regularization\n",
        "\n",
        "A **dropout layer** essentially **takes all inputs** passed to it and randomly **sets** <br>\n",
        "**some inputs to 0** with a certain rate. One way that models can **overfit** to <br>\n",
        "training data is by essentially *\"memorizing\"* or encoding into its function some <br>\n",
        "**properties that are specific to one data set**. \n",
        "\n",
        "We can help mitigate this by ensuring our data is as **non-homogeneous within** <br> \n",
        "**each sample** (train, val, test) and as **homogeneous across our samples as** <br> \n",
        "**possible**. This isn't always enough as we often end up showing our model the <br> \n",
        "same training data multiple times and **it may learn patterns about the training** <br> \n",
        "**data that don't exist in other data**. \n",
        "\n",
        "By adding dropout, we **decrease the likelihood that it learns** these sorts of <br> \n",
        "**inter-sample patterns by adding random variations** to either the data or the way <br> \n",
        "it handles the same data each time.\n",
        "\n",
        "Our models above all overfit (why?). Let's now tackle this problem using <br> dropout."
      ]
    },
    {
      "cell_type": "markdown",
      "metadata": {
        "id": "QC8Dypw2VeWn"
      },
      "source": [
        "**Task 7:**   \n",
        "a) Copy the code for the model of Task 6, add a dropout (20% rate) before each <br> hidden layer (https://keras.io/api/layers/regularization_layers/dropout/) <br>\n",
        "b) Compare the results."
      ]
    },
    {
      "cell_type": "markdown",
      "metadata": {
        "id": "-zc2SbByVeWn"
      },
      "source": [
        "↓↓↓↓↓↓↓↓↓↓↓↓↓↓↓↓↓↓↓↓↓↓↓↓↓↓↓↓↓↓↓ your code goes below"
      ]
    },
    {
      "cell_type": "code",
      "execution_count": null,
      "metadata": {
        "id": "HvOG26esVeWn"
      },
      "outputs": [],
      "source": []
    },
    {
      "cell_type": "markdown",
      "metadata": {
        "id": "VPmzlbiFVeWn"
      },
      "source": [
        "↑↑↑↑↑↑↑↑↑↑↑↑↑↑↑↑↑↑↑↑↑↑↑↑↑↑↑↑↑↑↑ your code goes above"
      ]
    },
    {
      "cell_type": "code",
      "execution_count": null,
      "metadata": {
        "id": "auu3TwOcVeWn"
      },
      "outputs": [],
      "source": [
        "model.evaluate(X_test, y_test)"
      ]
    },
    {
      "cell_type": "code",
      "execution_count": null,
      "metadata": {
        "id": "eJRBiKG7VeWn"
      },
      "outputs": [],
      "source": [
        "plt.plot(history.epoch, history.history[\"lr\"], \"bo-\")\n",
        "plt.xlabel(\"Epoch\")\n",
        "plt.ylabel(\"Learning Rate\", color='b')\n",
        "plt.tick_params('y', colors='b')\n",
        "plt.gca().set_xlim(0, n_epochs - 1)\n",
        "plt.grid(True)\n",
        "\n",
        "ax2 = plt.gca().twinx()\n",
        "ax2.plot(history.epoch, history.history[\"val_loss\"], \"r^-\")\n",
        "ax2.set_ylabel('Validation Loss', color='r')\n",
        "ax2.tick_params('y', colors='r')\n",
        "\n",
        "plt.title(\"Reduce LR on Plateau (with dropout)\", fontsize=14)\n",
        "plt.show()"
      ]
    },
    {
      "cell_type": "markdown",
      "metadata": {
        "id": "GsCwAFz9VeWn"
      },
      "source": [
        "# Optional Exercise (Bonus points): Using Callbacks during Training"
      ]
    },
    {
      "cell_type": "markdown",
      "metadata": {
        "id": "snHWdBwrVeWn"
      },
      "source": [
        "**Task 8:** Add to your model of Task 7 the following callbacks (check Chapter <br> \n",
        "10 and https://keras.io/api/callbacks/)   \n",
        "a) Checkpoint   <br>\n",
        "b) Early stopping (5 epochs)   <br>\n",
        "c) Tensorboard log   <br>\n",
        "d) Discuss the result \n",
        "\n",
        "You can use the code snippets below."
      ]
    },
    {
      "cell_type": "markdown",
      "metadata": {
        "id": "vXmUVkCxVeWo"
      },
      "source": [
        "↓↓↓↓↓↓↓↓↓↓↓↓↓↓↓↓↓↓↓↓↓↓↓↓↓↓↓↓↓↓↓ your code goes below"
      ]
    },
    {
      "cell_type": "code",
      "execution_count": null,
      "metadata": {
        "id": "hok1kPtOVeWo"
      },
      "outputs": [],
      "source": [
        "# model = "
      ]
    },
    {
      "cell_type": "code",
      "execution_count": null,
      "metadata": {
        "id": "DOqBJalJVeWo"
      },
      "outputs": [],
      "source": [
        "#Define callbacks\n",
        "lr_scheduler = keras.callbacks.ReduceLROnPlateau(factor=0.5, patience=2)\n",
        "early_stopping_cb = \n",
        "model_checkpoint_cb =\n",
        "tensorboard_cb ="
      ]
    },
    {
      "cell_type": "code",
      "execution_count": null,
      "metadata": {
        "id": "LLwQoUvSVeWo"
      },
      "outputs": [],
      "source": [
        "callbacks = [lr_scheduler, early_stopping_cb, model_checkpoint_cb, tensorboard_cb]"
      ]
    },
    {
      "cell_type": "code",
      "execution_count": null,
      "metadata": {
        "id": "eTpbLyp3VeWo"
      },
      "outputs": [],
      "source": [
        "optimizer = keras.optimizers.Adam(lr=0.01)\n",
        "\n",
        "model.compile(loss=\"sparse_categorical_crossentropy\", optimizer=optimizer, metrics=[\"accuracy\"])\n",
        "n_epochs = 50\n",
        "history = model.fit(X_train, y_train, epochs=n_epochs,\n",
        "                    validation_data=(X_valid, y_valid),\n",
        "                    callbacks=callbacks)"
      ]
    },
    {
      "cell_type": "code",
      "execution_count": null,
      "metadata": {
        "id": "l1nv6mdRVeWo"
      },
      "outputs": [],
      "source": [
        "%load_ext tensorboard\n",
        "%tensorboard --logdir=./my_fashion_logs --port=6006"
      ]
    },
    {
      "cell_type": "markdown",
      "metadata": {
        "id": "6c39ZmsuVeWo"
      },
      "source": [
        "↑↑↑↑↑↑↑↑↑↑↑↑↑↑↑↑↑↑↑↑↑↑↑↑↑↑↑↑↑↑↑ your code goes above"
      ]
    }
  ],
  "metadata": {
    "kernelspec": {
      "display_name": "Python 3",
      "language": "python",
      "name": "python3"
    },
    "language_info": {
      "codemirror_mode": {
        "name": "ipython",
        "version": 3
      },
      "file_extension": ".py",
      "mimetype": "text/x-python",
      "name": "python",
      "nbconvert_exporter": "python",
      "pygments_lexer": "ipython3",
      "version": "3.10.0"
    },
    "nav_menu": {
      "height": "360px",
      "width": "416px"
    },
    "toc": {
      "navigate_menu": true,
      "number_sections": true,
      "sideBar": true,
      "threshold": 6,
      "toc_cell": false,
      "toc_section_display": "block",
      "toc_window_display": false
    },
    "colab": {
      "provenance": [],
      "include_colab_link": true
    }
  },
  "nbformat": 4,
  "nbformat_minor": 0
}