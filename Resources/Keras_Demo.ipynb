{
  "nbformat": 4,
  "nbformat_minor": 0,
  "metadata": {
    "colab": {
      "provenance": [],
      "authorship_tag": "ABX9TyPjytHgyMMkHgTyBk69ulJl",
      "include_colab_link": true
    },
    "kernelspec": {
      "name": "python3",
      "display_name": "Python 3"
    },
    "language_info": {
      "name": "python"
    }
  },
  "cells": [
    {
      "cell_type": "markdown",
      "metadata": {
        "id": "view-in-github",
        "colab_type": "text"
      },
      "source": [
        "<a href=\"https://colab.research.google.com/github/UAPH451551/PH451_551_Sp23/blob/main/Resources/Keras_Demo.ipynb\" target=\"_parent\"><img src=\"https://colab.research.google.com/assets/colab-badge.svg\" alt=\"Open In Colab\"/></a>"
      ]
    },
    {
      "cell_type": "code",
      "execution_count": null,
      "metadata": {
        "id": "ak0NogfBAhrG"
      },
      "outputs": [],
      "source": [
        "from tensorflow import keras\n",
        "import numpy as np\n",
        "np.random.seed(42)\n",
        "import matplotlib.pyplot as plt"
      ]
    },
    {
      "cell_type": "code",
      "source": [
        "m = 100\n",
        "X = 6 * np.random.rand(m, 1) - 3\n",
        "y = 0.5 * X**2 + X + 2 + np.random.randn(m, 1)"
      ],
      "metadata": {
        "id": "g6ectiV7AloN"
      },
      "execution_count": null,
      "outputs": []
    },
    {
      "cell_type": "code",
      "source": [
        "plt.scatter(X,y)\n",
        "plt.show()"
      ],
      "metadata": {
        "colab": {
          "base_uri": "https://localhost:8080/",
          "height": 265
        },
        "id": "LEVDHgb1BftG",
        "outputId": "1d88ff51-7bd2-45f8-a773-5670d8959085"
      },
      "execution_count": null,
      "outputs": [
        {
          "output_type": "display_data",
          "data": {
            "text/plain": [
              "<Figure size 432x288 with 1 Axes>"
            ],
            "image/png": "[encoded data removed]"
          },
          "metadata": {
            "needs_background": "light"
          }
        }
      ]
    },
    {
      "cell_type": "markdown",
      "source": [
        "## SGD Algorithm for Linear Regression:\n",
        "\n",
        "$y_{pred}=\\Theta_0 + \\Theta_1x + ... + \\Theta_nx^n$ <br>\n",
        "$Loss = \\Sigma_i|y_{true,i}-y_{pred,i}|^2$ <br>\n",
        "$\\Theta_{i,new} = \\Theta_{i,old} - ( \\partial Loss /\\partial\\Theta_i )* \\eta$ $,\\eta =$ learning rate"
      ],
      "metadata": {
        "id": "iyVbzJNhICjT"
      }
    },
    {
      "cell_type": "code",
      "source": [
        "def build_linear_regressor(degree):\n",
        "  inputs = keras.Input(shape=(1,))\n",
        "  list_of_thetas = []\n",
        "  for i in range(degree + 1):\n",
        "    theta = keras.layers.Dense(1, activation='linear', use_bias=False)(inputs**i)\n",
        "    list_of_thetas.append(theta)\n",
        "  add = keras.layers.Add()([a for a in list_of_thetas])\n",
        "\n",
        "  model = keras.Model(inputs=inputs, outputs=add)\n",
        "  return model"
      ],
      "metadata": {
        "id": "oRkTTC_QB-Tu"
      },
      "execution_count": null,
      "outputs": []
    },
    {
      "cell_type": "code",
      "source": [
        "model = build_linear_regressor(degree=2)"
      ],
      "metadata": {
        "id": "3B-5n7LgJgw9"
      },
      "execution_count": null,
      "outputs": []
    },
    {
      "cell_type": "code",
      "source": [
        "model.compile(optimizer='sgd', loss='mse')"
      ],
      "metadata": {
        "id": "8zjZqkx5DVDx"
      },
      "execution_count": null,
      "outputs": []
    },
    {
      "cell_type": "code",
      "source": [
        "model.fit(X, y, epochs=50, verbose=0, batch_size=1, shuffle=False)"
      ],
      "metadata": {
        "colab": {
          "base_uri": "https://localhost:8080/"
        },
        "id": "7qkhzO73Dbyh",
        "outputId": "7c502ca1-662b-4e4d-eba3-a4a074e6d6a3"
      },
      "execution_count": null,
      "outputs": [
        {
          "output_type": "execute_result",
          "data": {
            "text/plain": [
              "<keras.callbacks.History at 0x7f905a071a30>"
            ]
          },
          "metadata": {},
          "execution_count": 7
        }
      ]
    },
    {
      "cell_type": "code",
      "source": [
        "predictions = model.predict(X)"
      ],
      "metadata": {
        "colab": {
          "base_uri": "https://localhost:8080/"
        },
        "id": "TgrfBp0nEXda",
        "outputId": "d88c1187-99e9-4fb4-a132-3bd424dc0ce5"
      },
      "execution_count": null,
      "outputs": [
        {
          "output_type": "stream",
          "name": "stdout",
          "text": [
            "4/4 [==============================] - 0s 3ms/step\n"
          ]
        }
      ]
    },
    {
      "cell_type": "code",
      "source": [
        "plt.scatter(X, y)\n",
        "plt.scatter(X, predictions)\n",
        "plt.show()"
      ],
      "metadata": {
        "colab": {
          "base_uri": "https://localhost:8080/",
          "height": 265
        },
        "id": "JJX-0v9IEaRx",
        "outputId": "2aa158ea-fb73-4536-ff8c-478ea9f7b746"
      },
      "execution_count": null,
      "outputs": [
        {
          "output_type": "display_data",
          "data": {
            "text/plain": [
              "<Figure size 432x288 with 1 Axes>"
            ],
            "image/png": "[encoded data removed]"
          },
          "metadata": {
            "needs_background": "light"
          }
        }
      ]
    },
    {
      "cell_type": "code",
      "source": [
        "model = build_linear_regressor(degree=5)"
      ],
      "metadata": {
        "id": "NELrS6Y2Evh7"
      },
      "execution_count": null,
      "outputs": []
    },
    {
      "cell_type": "markdown",
      "source": [
        "You can also customize optimizers by creating and passing an [optimizer](https://keras.io/api/optimizers/) object.\n",
        "\n",
        "Same for loss functions, activation functions, etc."
      ],
      "metadata": {
        "id": "Y6xKJvTwliD2"
      }
    },
    {
      "cell_type": "code",
      "source": [
        "optim = keras.optimizers.SGD(learning_rate=1e-5, momentum=0.0, nesterov=False,\n",
        "                             amsgrad=False, weight_decay=False) #etc\n"
      ],
      "metadata": {
        "id": "ZC4PnEc4lrQM"
      },
      "execution_count": null,
      "outputs": []
    },
    {
      "cell_type": "code",
      "source": [
        "model.compile(optimizer=optim, loss='mse')"
      ],
      "metadata": {
        "id": "UANhY1yYEviI"
      },
      "execution_count": null,
      "outputs": []
    },
    {
      "cell_type": "code",
      "source": [
        "model.fit(X, y, epochs=10, verbose=1, batch_size=1, shuffle=False)"
      ],
      "metadata": {
        "colab": {
          "base_uri": "https://localhost:8080/"
        },
        "outputId": "2efc089e-b46f-4df6-89e2-122dd137d928",
        "id": "0Mkel7jIEviI"
      },
      "execution_count": null,
      "outputs": [
        {
          "output_type": "stream",
          "name": "stdout",
          "text": [
            "Epoch 1/10\n",
            "100/100 [==============================] - 1s 2ms/step - loss: 830.6516\n",
            "Epoch 2/10\n",
            "100/100 [==============================] - 0s 2ms/step - loss: 27.2790\n",
            "Epoch 3/10\n",
            "100/100 [==============================] - 0s 2ms/step - loss: 5.6241\n",
            "Epoch 4/10\n",
            "100/100 [==============================] - 0s 2ms/step - loss: 4.8395\n",
            "Epoch 5/10\n",
            "100/100 [==============================] - 0s 2ms/step - loss: 4.7485\n",
            "Epoch 6/10\n",
            "100/100 [==============================] - 0s 2ms/step - loss: 4.6979\n",
            "Epoch 7/10\n",
            "100/100 [==============================] - 0s 2ms/step - loss: 4.6526\n",
            "Epoch 8/10\n",
            "100/100 [==============================] - 0s 2ms/step - loss: 4.6089\n",
            "Epoch 9/10\n",
            "100/100 [==============================] - 0s 2ms/step - loss: 4.5661\n",
            "Epoch 10/10\n",
            "100/100 [==============================] - 0s 2ms/step - loss: 4.5243\n"
          ]
        },
        {
          "output_type": "execute_result",
          "data": {
            "text/plain": [
              "<keras.callbacks.History at 0x7f905a8538e0>"
            ]
          },
          "metadata": {},
          "execution_count": 13
        }
      ]
    },
    {
      "cell_type": "code",
      "source": [
        "predictions = model.predict(X)"
      ],
      "metadata": {
        "colab": {
          "base_uri": "https://localhost:8080/"
        },
        "outputId": "02de5917-14b9-4278-a056-c272f81c05f2",
        "id": "ccJ_HUIHEviI"
      },
      "execution_count": null,
      "outputs": [
        {
          "output_type": "stream",
          "name": "stdout",
          "text": [
            "4/4 [==============================] - 0s 3ms/step\n"
          ]
        }
      ]
    },
    {
      "cell_type": "code",
      "source": [
        "plt.scatter(X, y)\n",
        "plt.scatter(X, predictions)\n",
        "plt.show()"
      ],
      "metadata": {
        "colab": {
          "base_uri": "https://localhost:8080/",
          "height": 265
        },
        "outputId": "40a2e94d-ce44-4c0b-ded9-32d931569551",
        "id": "K_EhphuLEviJ"
      },
      "execution_count": null,
      "outputs": [
        {
          "output_type": "display_data",
          "data": {
            "text/plain": [
              "<Figure size 432x288 with 1 Axes>"
            ],
            "image/png": "[encoded data removed]"
          },
          "metadata": {
            "needs_background": "light"
          }
        }
      ]
    },
    {
      "cell_type": "markdown",
      "source": [
        "## Let's now compare SGD for linear regression to SGD for Neural Nets:\n",
        "\n",
        "### SGD Algorithm for Linear Regression:\n",
        "\n",
        "$y_{pred}=\\Theta_0 + \\Theta_1x_1 + ... + \\Theta_nx_n$ <br>\n",
        "$Loss = \\Sigma_i|y_{true,i}-y_{pred,i}|^2$ <br>\n",
        "$\\Theta_{i,new} = \\Theta_{i,old} - ( \\partial Loss /\\partial\\Theta_i )* \\eta$ $,\\eta =$ learning rate"
      ],
      "metadata": {
        "id": "ednZo1gxOtnn"
      }
    },
    {
      "cell_type": "markdown",
      "source": [
        "## SGD Optimizer for Linear Models with Mean Square Error Loss Function:\n",
        "\n",
        "Consider just the neuron activation for the first neuron in the last layer. <br>\n",
        "This neuron is essentially what our model prediction is for the first output $y_0$.\n",
        "\n",
        "$a_{0,l} = \\sigma[w_{0,l}(a_{0,l-1} + a_{1,l-1} + ... a_{m,l-1})+ b_l]$ <br>\n",
        "a are activations of neurons, b are layer biases, w are neuron weights, $\\sigma$ <br>\n",
        "is some sort of activation function <br>\n",
        "\n",
        "Consider now how we can evaluate this loss using MSE: <br>\n",
        "$Loss_{0,l} = |y_{true,0}-a_{0,l}|^2$ <br>\n",
        "\n",
        "We can update our weights just like we updated our $\\Theta$ values in linear reg. <br>\n",
        "$w_{0,l,new} = w_{0,l,old} - ( \\partial Loss /\\partial w_{0,l} )* \\eta$ $,\\eta =$ learning rate <br>\n",
        "\n",
        "Same for biases. <br>\n",
        "$b_{l,new} = b_{l,old} - ( \\partial Loss /\\partial b_l )* \\eta$\n",
        "\n",
        "We then repeat this procedure going from the end of the model backward to the <br>\n",
        "start of the model updating all of the neuron weights and layer biases. Note <br>\n",
        "that the neurons in the second-to-last layer would need to have their losses <br>\n",
        "partial derivatives summed over all activations in the final layer since <br> they're connected to all of the final layer neurons.\n",
        "\n",
        "It turns out that this process is totally general and can be used for many loss <br>\n",
        "functions and activation functions. Most other optimizer algorithms are just <br>\n",
        "improvements aimed at smoothing the behavior of SGD."
      ],
      "metadata": {
        "id": "h_STU8RpJugX"
      }
    },
    {
      "cell_type": "code",
      "source": [
        "# Sequential classifier for 10 1D inputs and 1 binary class\n",
        "sequential_model1 = keras.Sequential()\n",
        "sequential_model1.add(keras.layers.Dense(10, activation='relu'))\n",
        "sequential_model1.add(keras.layers.Dense(1, activation='sigmoid'))\n",
        "\n",
        "sequential_model1.compile(optimizer='sgd', loss='binary_crossentropy')"
      ],
      "metadata": {
        "id": "CXKIo895FMYu"
      },
      "execution_count": null,
      "outputs": []
    },
    {
      "cell_type": "code",
      "source": [
        "# Sequential classifier for 10x10 2D inputs and 1 binary class\n",
        "sequential_model2 = keras.Sequential()\n",
        "sequential_model2.add(keras.layers.Flatten(input_shape=(10,10)))\n",
        "sequential_model2.add(keras.layers.Dense(10*10, activation='relu'))\n",
        "sequential_model2.add(keras.layers.Dense(1, activation='sigmoid'))\n",
        "\n",
        "sequential_model2.compile(optimizer='sgd', loss='binary_crossentropy')"
      ],
      "metadata": {
        "id": "hkOlooWGGlg_"
      },
      "execution_count": null,
      "outputs": []
    },
    {
      "cell_type": "code",
      "source": [
        "# Sequential classifier for 20x30 1D inputs and 10 unique classes\n",
        "sequential_model3 = keras.Sequential()\n",
        "sequential_model3.add(keras.layers.Flatten(input_shape=(20,30)))\n",
        "sequential_model3.add(keras.layers.Dense(20*30, activation='relu'))\n",
        "sequential_model3.add(keras.layers.Dense(10, activation='softmax'))\n",
        "\n",
        "sequential_model3.compile(optimizer='sgd', loss='sparse_categorical_crossentropy')"
      ],
      "metadata": {
        "id": "FnRxZEQuIP3q"
      },
      "execution_count": null,
      "outputs": []
    },
    {
      "cell_type": "code",
      "source": [
        "# Sequential regressor for 20 1D inputs and 3 outputs\n",
        "sequential_model4 = keras.Sequential()\n",
        "sequential_model4.add(keras.layers.Dense(20, activation='relu'))\n",
        "sequential_model4.add(keras.layers.Dense(3, activation='linear'))\n",
        "\n",
        "sequential_model4.compile(optimizer='sgd', loss='mse')"
      ],
      "metadata": {
        "id": "OlIgSTK_G2d7"
      },
      "execution_count": null,
      "outputs": []
    }
  ]
}