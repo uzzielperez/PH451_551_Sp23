{
  "nbformat": 4,
  "nbformat_minor": 0,
  "metadata": {
    "colab": {
      "provenance": [],
      "authorship_tag": "ABX9TyOcotlcAtzgepKgRVciXFhO",
      "include_colab_link": true
    },
    "kernelspec": {
      "name": "python3",
      "display_name": "Python 3"
    },
    "language_info": {
      "name": "python"
    }
  },
  "cells": [
    {
      "cell_type": "markdown",
      "metadata": {
        "id": "view-in-github",
        "colab_type": "text"
      },
      "source": [
        "<a href=\"https://colab.research.google.com/github/UAPH451551/PH451_551_Sp23/blob/main/Resources/Synthetic_Data_Techniques.ipynb\" target=\"_parent\"><img src=\"https://colab.research.google.com/assets/colab-badge.svg\" alt=\"Open In Colab\"/></a>"
      ]
    },
    {
      "cell_type": "code",
      "execution_count": null,
      "metadata": {
        "id": "iqVq8EXxBqre"
      },
      "outputs": [],
      "source": [
        "import imblearn\n",
        "from sklearn import datasets\n",
        "import matplotlib.pyplot as plt\n",
        "import numpy as np"
      ]
    },
    {
      "cell_type": "code",
      "source": [
        "california = datasets.fetch_california_housing()"
      ],
      "metadata": {
        "id": "XC669Ua-Crkg"
      },
      "execution_count": null,
      "outputs": []
    },
    {
      "cell_type": "code",
      "source": [
        "data, target = california['data'], california['target']"
      ],
      "metadata": {
        "id": "CVUxaoczDA7H"
      },
      "execution_count": null,
      "outputs": []
    },
    {
      "cell_type": "code",
      "source": [
        "plt.hist(data[:,0])\n",
        "plt.show()"
      ],
      "metadata": {
        "id": "4DMSd3S4DFa5"
      },
      "execution_count": null,
      "outputs": []
    },
    {
      "cell_type": "code",
      "source": [
        "under_rep_class = data[data[:,0] > 12]\n",
        "over_rep_class = data[data[:,0] < 12]\n",
        "under_rep_labels = np.zeros(len(under_rep_class))\n",
        "over_rep_labels = np.ones(len(over_rep_class))"
      ],
      "metadata": {
        "id": "ngQBN1cDDxQ1"
      },
      "execution_count": null,
      "outputs": []
    },
    {
      "cell_type": "code",
      "source": [
        "all_classes = np.concatenate((over_rep_class, under_rep_class))\n",
        "all_labels = np.concatenate((over_rep_labels, under_rep_labels))"
      ],
      "metadata": {
        "id": "1LfX6Lx3GXE-"
      },
      "execution_count": null,
      "outputs": []
    },
    {
      "cell_type": "code",
      "source": [
        "plt.hist(over_rep_class[:,0], range=(0,16))\n",
        "plt.hist(under_rep_class[:,0], range=(0,16))\n",
        "plt.show()"
      ],
      "metadata": {
        "id": "3ODIebBcD9vS"
      },
      "execution_count": null,
      "outputs": []
    },
    {
      "cell_type": "code",
      "source": [
        "plt.hist(under_rep_class[:,0], range=(12,16))\n",
        "plt.show()"
      ],
      "metadata": {
        "id": "rOgXTk0CFXFr"
      },
      "execution_count": null,
      "outputs": []
    },
    {
      "cell_type": "code",
      "source": [
        "from imblearn.over_sampling import SMOTE"
      ],
      "metadata": {
        "id": "iPEi47GqEx9_"
      },
      "execution_count": null,
      "outputs": []
    },
    {
      "cell_type": "code",
      "source": [
        "oversample = SMOTE()\n",
        "all_classes_2, all_labels_2 = oversample.fit_resample(all_classes, all_labels)"
      ],
      "metadata": {
        "id": "KJ0-GHKcE2hH"
      },
      "execution_count": null,
      "outputs": []
    },
    {
      "cell_type": "code",
      "source": [
        "plt.hist(all_classes_2[:,0])"
      ],
      "metadata": {
        "id": "9IsLMJe7G5CQ"
      },
      "execution_count": null,
      "outputs": []
    },
    {
      "cell_type": "code",
      "source": [
        "new_under_rep = all_classes_2[all_classes_2[:,0] > 11]"
      ],
      "metadata": {
        "id": "wcfVsInbHCgY"
      },
      "execution_count": null,
      "outputs": []
    },
    {
      "cell_type": "code",
      "source": [
        "plt.hist(under_rep_class[:,0], histtype='step', density=1, color='blue', label='Old')\n",
        "plt.hist(new_under_rep[:,0], histtype='step', density=1, color='orange', label='New')\n",
        "plt.legend()\n",
        "plt.title('Median Income')\n",
        "plt.show()"
      ],
      "metadata": {
        "id": "6Q8KC36tHXkj"
      },
      "execution_count": null,
      "outputs": []
    },
    {
      "cell_type": "code",
      "source": [
        "plt.hist(under_rep_class[:,2], histtype='step', density=1, color='blue', label='Old')\n",
        "plt.hist(new_under_rep[:,2], histtype='step', density=1, color='orange', label='New')\n",
        "plt.title('Average Rooms')\n",
        "plt.legend()\n",
        "plt.show()"
      ],
      "metadata": {
        "id": "eYTiZw1CHqZg"
      },
      "execution_count": null,
      "outputs": []
    },
    {
      "cell_type": "code",
      "source": [
        "!wget https://raw.githubusercontent.com/jbrownlee/Datasets/master/daily-min-temperatures.csv"
      ],
      "metadata": {
        "id": "oBbWNZs1IPbt"
      },
      "execution_count": null,
      "outputs": []
    },
    {
      "cell_type": "code",
      "source": [
        "import pandas as pd"
      ],
      "metadata": {
        "id": "S9M7hbxiKm1y"
      },
      "execution_count": null,
      "outputs": []
    },
    {
      "cell_type": "code",
      "source": [
        "temp_data = pd.read_csv('daily-min-temperatures.csv')"
      ],
      "metadata": {
        "id": "7pON_onMKxcL"
      },
      "execution_count": null,
      "outputs": []
    },
    {
      "cell_type": "code",
      "source": [
        "print(temp_data)"
      ],
      "metadata": {
        "id": "ypPFXHpFK81z"
      },
      "execution_count": null,
      "outputs": []
    },
    {
      "cell_type": "code",
      "source": [
        "time_series = temp_data['Temp']"
      ],
      "metadata": {
        "id": "i44A6s_9LSuJ"
      },
      "execution_count": null,
      "outputs": []
    },
    {
      "cell_type": "code",
      "source": [
        "plt.plot(time_series)\n",
        "plt.show()"
      ],
      "metadata": {
        "id": "XOC2ZpCXLYMy"
      },
      "execution_count": null,
      "outputs": []
    },
    {
      "cell_type": "code",
      "source": [
        "steps = np.arange(len(time_series))"
      ],
      "metadata": {
        "id": "6g6AlOxyMIfE"
      },
      "execution_count": null,
      "outputs": []
    },
    {
      "cell_type": "code",
      "source": [
        "from scipy.interpolate import CubicSpline"
      ],
      "metadata": {
        "id": "lJ3JRyB2LcUh"
      },
      "execution_count": null,
      "outputs": []
    },
    {
      "cell_type": "code",
      "source": [
        "cs = CubicSpline(steps, time_series)"
      ],
      "metadata": {
        "id": "1bjOT92vLlNF"
      },
      "execution_count": null,
      "outputs": []
    },
    {
      "cell_type": "code",
      "source": [
        "print(cs.c)"
      ],
      "metadata": {
        "id": "Tr9SlDTmauTs"
      },
      "execution_count": null,
      "outputs": []
    },
    {
      "cell_type": "code",
      "source": [
        "plt.plot(steps, cs(steps))\n",
        "new_steps = np.arange(len(steps), len(steps)+2)\n",
        "plt.plot(new_steps, cs(new_steps))\n",
        "plt.show()"
      ],
      "metadata": {
        "id": "X94CIwwKOHWG"
      },
      "execution_count": null,
      "outputs": []
    },
    {
      "cell_type": "code",
      "source": [
        "smooth_series = time_series.rolling(60).mean()"
      ],
      "metadata": {
        "id": "pGjchcjHOqOi"
      },
      "execution_count": null,
      "outputs": []
    },
    {
      "cell_type": "code",
      "source": [
        "c_smooth_series = smooth_series.tail(smooth_series.shape[0] - 60)\n",
        "c_steps = steps[60:]"
      ],
      "metadata": {
        "id": "42O1peoKQSDM"
      },
      "execution_count": null,
      "outputs": []
    },
    {
      "cell_type": "code",
      "source": [
        "print(len(c_steps))"
      ],
      "metadata": {
        "id": "KIzSgYvdQyrr"
      },
      "execution_count": null,
      "outputs": []
    },
    {
      "cell_type": "code",
      "source": [
        "plt.plot(c_smooth_series)\n",
        "plt.show()"
      ],
      "metadata": {
        "id": "nocrrG--O51i"
      },
      "execution_count": null,
      "outputs": []
    },
    {
      "cell_type": "code",
      "source": [
        "import scipy.optimize\n",
        "#https://stackoverflow.com/questions/16716302/how-do-i-fit-a-sine-curve-to-my-data-with-pylab-and-numpy\n",
        "def fit_sin(tt, yy):\n",
        "    '''Fit sin to the input time sequence, and return fitting parameters \"amp\", \n",
        "    \"omega\", \"phase\", \"offset\", \"freq\", \"period\" and \"fitfunc\"'''\n",
        "    tt = np.array(tt)\n",
        "    yy = np.array(yy)\n",
        "    ff = np.fft.fftfreq(len(tt), (tt[1]-tt[0]))   # assume uniform spacing\n",
        "    Fyy = abs(np.fft.fft(yy))\n",
        "    guess_freq = abs(ff[np.argmax(Fyy[1:])+1])   # excluding the zero frequency \"peak\", which is related to offset\n",
        "    guess_amp = np.std(yy) * 2.**0.5\n",
        "    guess_offset = np.mean(yy)\n",
        "    guess = np.array([guess_amp, 2.*np.pi*guess_freq, 0., guess_offset])\n",
        "\n",
        "    def sinfunc(t, A, w, p, c):  return A * np.sin(w*t + p) + c\n",
        "    popt, pcov = scipy.optimize.curve_fit(sinfunc, tt, yy, p0=guess)\n",
        "    A, w, p, c = popt\n",
        "    f = w/(2.*np.pi)\n",
        "    fitfunc = lambda t: A * np.sin(w*t + p) + c\n",
        "    return {\"amp\": A, \"omega\": w, \"phase\": p, \"offset\": c, \"freq\": f, \"period\": 1./f, \n",
        "            \"fitfunc\": fitfunc, \"maxcov\": np.max(pcov), \"rawres\": (guess,popt,pcov)}"
      ],
      "metadata": {
        "id": "9Juzi1AfWTwG"
      },
      "execution_count": null,
      "outputs": []
    },
    {
      "cell_type": "code",
      "source": [
        "res = fit_sin(c_steps, c_smooth_series)"
      ],
      "metadata": {
        "id": "Pq2c0-E6Wyet"
      },
      "execution_count": null,
      "outputs": []
    },
    {
      "cell_type": "code",
      "source": [
        "fitted_series = res[\"fitfunc\"](c_steps)"
      ],
      "metadata": {
        "id": "Ggskfk7nXd0X"
      },
      "execution_count": null,
      "outputs": []
    },
    {
      "cell_type": "code",
      "source": [
        "plt.plot(c_steps, fitted_series)\n",
        "plt.show()"
      ],
      "metadata": {
        "id": "XPaFXFcUXF_u"
      },
      "execution_count": null,
      "outputs": []
    },
    {
      "cell_type": "code",
      "source": [
        "plt.plot(time_series[60:] - fitted_series)\n",
        "plt.show()"
      ],
      "metadata": {
        "id": "lZ-UCFtyXWMY"
      },
      "execution_count": null,
      "outputs": []
    },
    {
      "cell_type": "code",
      "source": [
        "residuals = time_series[60:] - fitted_series"
      ],
      "metadata": {
        "id": "imqBbsxwX61f"
      },
      "execution_count": null,
      "outputs": []
    },
    {
      "cell_type": "code",
      "source": [
        "smooth_residuals = residuals.rolling(60).mean()"
      ],
      "metadata": {
        "id": "UWl69etHET1Q"
      },
      "execution_count": null,
      "outputs": []
    },
    {
      "cell_type": "code",
      "source": [
        "c_smooth_residuals = smooth_residuals.tail(smooth_residuals.shape[0] - 60)\n",
        "c_steps_2 = c_steps[60:]"
      ],
      "metadata": {
        "id": "uE2L0P-hEOwM"
      },
      "execution_count": null,
      "outputs": []
    },
    {
      "cell_type": "code",
      "source": [
        "res2 = fit_sin(c_steps_2, c_smooth_residuals)"
      ],
      "metadata": {
        "id": "GctcKkkaX_Tw"
      },
      "execution_count": null,
      "outputs": []
    },
    {
      "cell_type": "code",
      "source": [
        "plt.plot(c_steps_2, c_smooth_residuals)\n",
        "plt.show()"
      ],
      "metadata": {
        "id": "SC4R5UWVEd15"
      },
      "execution_count": null,
      "outputs": []
    },
    {
      "cell_type": "code",
      "source": [
        "residuals_fitted_series = res2[\"fitfunc\"](c_steps_2)"
      ],
      "metadata": {
        "id": "1Uzqx1RHYEND"
      },
      "execution_count": null,
      "outputs": []
    },
    {
      "cell_type": "code",
      "source": [
        "plt.plot(c_steps_2, residuals_fitted_series)\n",
        "plt.show()"
      ],
      "metadata": {
        "id": "o7x3sQGnYQkS"
      },
      "execution_count": null,
      "outputs": []
    },
    {
      "cell_type": "code",
      "source": [
        "plt.plot(time_series[120:] - fitted_series[60:] - residuals_fitted_series)\n",
        "plt.show()"
      ],
      "metadata": {
        "id": "ohtExYAdYKC-"
      },
      "execution_count": null,
      "outputs": []
    },
    {
      "cell_type": "code",
      "source": [
        "gaussian_noise = time_series[120:] - fitted_series[60:] - residuals_fitted_series"
      ],
      "metadata": {
        "id": "hYepV7tAYXGa"
      },
      "execution_count": null,
      "outputs": []
    },
    {
      "cell_type": "code",
      "source": [
        "plt.hist(gaussian_noise)\n",
        "plt.show()"
      ],
      "metadata": {
        "id": "BT-Hf8rOYgOQ"
      },
      "execution_count": null,
      "outputs": []
    },
    {
      "cell_type": "code",
      "source": [
        "gaussian_mean = np.mean(gaussian_noise)\n",
        "gaussian_std = np.std(gaussian_noise)"
      ],
      "metadata": {
        "id": "BD63gnSWYp3k"
      },
      "execution_count": null,
      "outputs": []
    },
    {
      "cell_type": "code",
      "source": [
        "new_gaussian = np.random.normal(loc=gaussian_mean, scale=gaussian_std, size=len(gaussian_noise))"
      ],
      "metadata": {
        "id": "7DBJArluY0Lh"
      },
      "execution_count": null,
      "outputs": []
    },
    {
      "cell_type": "code",
      "source": [
        "plt.hist(gaussian_noise, histtype='step', color='blue')\n",
        "plt.hist(new_gaussian, histtype='step', color='orange')\n",
        "plt.show()"
      ],
      "metadata": {
        "id": "KAvlepXKEzJn"
      },
      "execution_count": null,
      "outputs": []
    },
    {
      "cell_type": "code",
      "source": [
        "plt.plot(steps, time_series, alpha=.5)\n",
        "plt.plot(c_steps_2, fitted_series[60:] + residuals_fitted_series + new_gaussian, alpha=.5)\n",
        "plt.show()"
      ],
      "metadata": {
        "id": "LZ7OhvXSZC46"
      },
      "execution_count": null,
      "outputs": []
    }
  ]
}