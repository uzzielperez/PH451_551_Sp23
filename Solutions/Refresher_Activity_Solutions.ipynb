{
  "nbformat": 4,
  "nbformat_minor": 0,
  "metadata": {
    "colab": {
      "provenance": [],
      "authorship_tag": "ABX9TyPCSUtvu4mYaAuHGTvzcrYj",
      "include_colab_link": true
    },
    "kernelspec": {
      "name": "python3",
      "display_name": "Python 3"
    },
    "language_info": {
      "name": "python"
    }
  },
  "cells": [
    {
      "cell_type": "markdown",
      "metadata": {
        "id": "view-in-github",
        "colab_type": "text"
      },
      "source": [
        "<a href=\"https://colab.research.google.com/github/UAPH451551/PH451_551_Sp23/blob/main/Solutions/Refresher_Activity_Solutions.ipynb\" target=\"_parent\"><img src=\"https://colab.research.google.com/assets/colab-badge.svg\" alt=\"Open In Colab\"/></a>"
      ]
    },
    {
      "cell_type": "code",
      "source": [
        "import numpy as np\n",
        "from sklearn.datasets import fetch_openml\n",
        "import matplotlib.pyplot as plt\n",
        "import pandas as pd"
      ],
      "metadata": {
        "id": "5UMQKfzCpB6V"
      },
      "execution_count": null,
      "outputs": []
    },
    {
      "cell_type": "markdown",
      "source": [
        "## Solutions for Python Refreshers 2 Activity"
      ],
      "metadata": {
        "id": "sK2rg4fIVj_F"
      }
    },
    {
      "cell_type": "code",
      "source": [
        "def collatz(number):\n",
        "    array = np.array(number)\n",
        "    while number != 1:\n",
        "        if number % 2 == 0:\n",
        "            number = number / 2\n",
        "        else:\n",
        "            number = number * 3 +1\n",
        "        array = np.append(array, number)\n",
        "    print(array)\n",
        "collatz(7)"
      ],
      "metadata": {
        "colab": {
          "base_uri": "https://localhost:8080/"
        },
        "id": "QgNtsh_spbym",
        "outputId": "ccd1fb54-5f95-4e79-a87f-6f2d2af2aab5"
      },
      "execution_count": null,
      "outputs": [
        {
          "output_type": "stream",
          "name": "stdout",
          "text": [
            "[ 7. 22. 11. 34. 17. 52. 26. 13. 40. 20. 10.  5. 16.  8.  4.  2.  1.]\n"
          ]
        }
      ]
    },
    {
      "cell_type": "markdown",
      "source": [
        "## Solutions for Python Refreshers 3 Activity"
      ],
      "metadata": {
        "id": "Shj9HKfweFE_"
      }
    },
    {
      "cell_type": "code",
      "source": [
        "mnist = fetch_openml('mnist_784') # Import dataset"
      ],
      "metadata": {
        "id": "vIAy88h0dP4E"
      },
      "execution_count": null,
      "outputs": []
    },
    {
      "cell_type": "code",
      "source": [
        "data, target = mnist[\"data\"], mnist[\"target\"] # Isolate input and output data\n",
        "data_500, target_500 = data.iloc[500], target.iloc[500] # Get the 500th item\n",
        "d_500_vals = data_500.values # Get the values as numpy array\n",
        "t_500_vals = int(target_500) # Convert the labels to integers\n",
        "d_500_vals = d_500_vals.reshape(28, 28) # Reshape the 784 pixel values to 28x28"
      ],
      "metadata": {
        "id": "0RxevlzudMly"
      },
      "execution_count": null,
      "outputs": []
    },
    {
      "cell_type": "code",
      "source": [
        "plt.imshow(d_500_vals) # Plot the 500th item\n",
        "print(t_500_vals) # Print the label for the 500th item"
      ],
      "metadata": {
        "colab": {
          "base_uri": "https://localhost:8080/",
          "height": 282
        },
        "id": "OiUqqkyNdOmw",
        "outputId": "41eed4d9-c45b-4493-aca5-e3835e525fc0"
      },
      "execution_count": null,
      "outputs": [
        {
          "output_type": "stream",
          "name": "stdout",
          "text": [
            "3\n"
          ]
        },
        {
          "output_type": "display_data",
          "data": {
            "text/plain": [
              "<Figure size 432x288 with 1 Axes>"
            ],
            "image/png": "[encoded data removed]"
          },
          "metadata": {
            "needs_background": "light"
          }
        }
      ]
    }
  ]
}