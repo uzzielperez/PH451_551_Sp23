{
  "nbformat": 4,
  "nbformat_minor": 0,
  "metadata": {
    "colab": {
      "provenance": [],
      "authorship_tag": "ABX9TyPUjyHwVs1P9c2iTp48378P",
      "include_colab_link": true
    },
    "kernelspec": {
      "name": "python3",
      "display_name": "Python 3"
    },
    "language_info": {
      "name": "python"
    }
  },
  "cells": [
    {
      "cell_type": "markdown",
      "metadata": {
        "id": "view-in-github",
        "colab_type": "text"
      },
      "source": [
        "<a href=\"https://colab.research.google.com/github/UAPH451551/PH451_551_Sp23/blob/main/Saving_Files_To_Drive.ipynb\" target=\"_parent\"><img src=\"https://colab.research.google.com/assets/colab-badge.svg\" alt=\"Open In Colab\"/></a>"
      ]
    },
    {
      "cell_type": "markdown",
      "source": [
        "# Saving Files\n",
        "\n",
        "In this notebook we'll be looking at how to save files to google drive. <br>\n",
        "Note: you may want to create a new google account to do this if you <br>\n",
        "don't want to risk accidentally modifying your personal google drive."
      ],
      "metadata": {
        "id": "x_2UIHEub5MA"
      }
    },
    {
      "cell_type": "markdown",
      "source": [
        "## Step 1: Mounting google drive to colab\n",
        "\n",
        "Click on the folder icon on the far left of the screen and then click <br>\n",
        "the \"Mount Drive\" icon which looks like a folder with the google drive <br> \n",
        "triangle symbol on it. This will add the following two lines of code to <br>\n",
        "your notebook. Running these will ask permission for access to your <br>\n",
        "google account and will then connect your google drive to colab."
      ],
      "metadata": {
        "id": "9zUfQ0WEcTqQ"
      }
    },
    {
      "cell_type": "code",
      "source": [
        "from google.colab import drive\n",
        "drive.mount('/content/drive')"
      ],
      "metadata": {
        "colab": {
          "base_uri": "https://localhost:8080/"
        },
        "id": "l5JhDeOKb4HB",
        "outputId": "06aecad3-cf0b-4f2d-efdc-74245933bb0b"
      },
      "execution_count": null,
      "outputs": [
        {
          "output_type": "stream",
          "name": "stdout",
          "text": [
            "Mounted at /content/drive\n"
          ]
        }
      ]
    },
    {
      "cell_type": "markdown",
      "source": [
        "## Step 2: Saving and loading files in drive using some common formats\n",
        "\n",
        "Note: The standard file path for your google drive is this: <br>\n",
        "`/content/drive/MyDrive/`\n",
        "\n",
        "You can further save to specific folders in your drive by adding to the <br>\n",
        "filepath."
      ],
      "metadata": {
        "id": "ljTCpnzQc5Ez"
      }
    },
    {
      "cell_type": "code",
      "execution_count": null,
      "metadata": {
        "id": "uMi-p2wvb0IL"
      },
      "outputs": [],
      "source": [
        "import numpy as np\n",
        "import pandas as pd\n",
        "import keras"
      ]
    },
    {
      "cell_type": "code",
      "source": [
        "array = np.array((1,2,3))\n",
        "np.save('/content/drive/MyDrive/array.npy', array)\n",
        "print(array)\n",
        "array2 = np.load('/content/drive/MyDrive/array.npy')\n",
        "print(array2)"
      ],
      "metadata": {
        "colab": {
          "base_uri": "https://localhost:8080/"
        },
        "id": "n8DOY6ZQdTo6",
        "outputId": "ead426aa-7278-4926-b346-d09e1907f72e"
      },
      "execution_count": null,
      "outputs": [
        {
          "output_type": "stream",
          "name": "stdout",
          "text": [
            "[1 2 3]\n",
            "[1 2 3]\n"
          ]
        }
      ]
    },
    {
      "cell_type": "code",
      "source": [
        "dataframe = pd.DataFrame((1,2,3))\n",
        "dataframe.to_csv('/content/drive/MyDrive/dataframe.csv')\n",
        "print(dataframe)\n",
        "dataframe2 = pd.read_csv('/content/drive/MyDrive/dataframe.csv')\n",
        "print(dataframe2)\n",
        "# Note that writing to and reading from csv may modify the headers unless your\n",
        "# original dataframe has headers included."
      ],
      "metadata": {
        "colab": {
          "base_uri": "https://localhost:8080/"
        },
        "id": "gazpUNkEdpUL",
        "outputId": "4e811db8-6982-4593-8ef4-a69431090181"
      },
      "execution_count": null,
      "outputs": [
        {
          "output_type": "stream",
          "name": "stdout",
          "text": [
            "   0\n",
            "0  1\n",
            "1  2\n",
            "2  3\n",
            "   Unnamed: 0  0\n",
            "0           0  1\n",
            "1           1  2\n",
            "2           2  3\n"
          ]
        }
      ]
    },
    {
      "cell_type": "code",
      "source": [
        "model = keras.Sequential()\n",
        "model.add(keras.layers.Dense(3, input_shape=(3,)))\n",
        "model.add(keras.layers.Dense(8))\n",
        "model.save('model.h5')\n",
        "# Load entire model from h5 file\n",
        "model2 = keras.models.load_model('model.h5')\n",
        "# Load just trained model weights to an already built model of same shape\n",
        "model3 = model.load_weights('model.h5')\n",
        "print(model)\n",
        "print(model2)\n",
        "print(model3) # This will be none since the original model was not trained"
      ],
      "metadata": {
        "colab": {
          "base_uri": "https://localhost:8080/"
        },
        "id": "InL_VsOweWjZ",
        "outputId": "714554a5-7e27-4e36-93cc-3f3f9d96f3fd"
      },
      "execution_count": null,
      "outputs": [
        {
          "output_type": "stream",
          "name": "stderr",
          "text": [
            "WARNING:tensorflow:Compiled the loaded model, but the compiled metrics have yet to be built. `model.compile_metrics` will be empty until you train or evaluate the model.\n",
            "WARNING:tensorflow:No training configuration found in the save file, so the model was *not* compiled. Compile it manually.\n"
          ]
        },
        {
          "output_type": "stream",
          "name": "stdout",
          "text": [
            "<keras.engine.sequential.Sequential object at 0x7f3df0c6b6a0>\n",
            "<keras.engine.sequential.Sequential object at 0x7f3df0c68940>\n",
            "None\n"
          ]
        }
      ]
    },
    {
      "cell_type": "markdown",
      "source": [
        "## Step 3: Saving general python files using pickle\n",
        "\n",
        "Pickle is a compression and storage protocol for python. It can be used <br>\n",
        "for general python objects. Note: it is easy to overwrite your files <br>\n",
        "using pickle so you should be especially careful with 'wb' (write) vs <br> 'rb' (read)."
      ],
      "metadata": {
        "id": "5p3tVsyOfO2j"
      }
    },
    {
      "cell_type": "code",
      "source": [
        "import pickle as pkl\n",
        "import numpy as np"
      ],
      "metadata": {
        "id": "2WQdiYIQfsbv"
      },
      "execution_count": null,
      "outputs": []
    },
    {
      "cell_type": "code",
      "source": [
        "array = np.array((1,2,3))\n",
        "pkl.dump(array, open('array.p', 'wb'))\n",
        "print(array)\n",
        "array2 = pkl.load(open('array.p', 'rb'))\n",
        "print(array2)"
      ],
      "metadata": {
        "colab": {
          "base_uri": "https://localhost:8080/"
        },
        "id": "w0gxCTE-ft5m",
        "outputId": "a0ecc896-b3ef-4b89-9fcb-3bfd4d271f81"
      },
      "execution_count": null,
      "outputs": [
        {
          "output_type": "stream",
          "name": "stdout",
          "text": [
            "[1 2 3]\n",
            "[1 2 3]\n"
          ]
        }
      ]
    }
  ]
}